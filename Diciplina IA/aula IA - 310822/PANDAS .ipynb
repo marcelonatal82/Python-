{
 "cells": [
  {
   "cell_type": "code",
   "execution_count": 13,
   "id": "0164b203",
   "metadata": {},
   "outputs": [],
   "source": [
    "import pandas as pd\n",
    "import random"
   ]
  },
  {
   "cell_type": "markdown",
   "id": "37887335",
   "metadata": {},
   "source": [
    "# Series "
   ]
  },
  {
   "cell_type": "code",
   "execution_count": 15,
   "id": "79b8abbb",
   "metadata": {},
   "outputs": [],
   "source": [
    "data = pd.Series([-5, 2, 7, 1])"
   ]
  },
  {
   "cell_type": "code",
   "execution_count": 16,
   "id": "fb12e142",
   "metadata": {},
   "outputs": [
    {
     "data": {
      "text/plain": [
       "0   -5\n",
       "1    2\n",
       "2    7\n",
       "3    1\n",
       "dtype: int64"
      ]
     },
     "execution_count": 16,
     "metadata": {},
     "output_type": "execute_result"
    }
   ],
   "source": [
    "data "
   ]
  },
  {
   "cell_type": "code",
   "execution_count": 17,
   "id": "44c8c362",
   "metadata": {},
   "outputs": [
    {
     "data": {
      "text/plain": [
       "pandas.core.series.Series"
      ]
     },
     "execution_count": 17,
     "metadata": {},
     "output_type": "execute_result"
    }
   ],
   "source": [
    "type(data)"
   ]
  },
  {
   "cell_type": "code",
   "execution_count": 18,
   "id": "a2005fe3",
   "metadata": {},
   "outputs": [
    {
     "data": {
      "text/plain": [
       "(4,)"
      ]
     },
     "execution_count": 18,
     "metadata": {},
     "output_type": "execute_result"
    }
   ],
   "source": [
    "data.shape"
   ]
  },
  {
   "cell_type": "code",
   "execution_count": 19,
   "id": "17d14118",
   "metadata": {},
   "outputs": [
    {
     "data": {
      "text/plain": [
       "-5"
      ]
     },
     "execution_count": 19,
     "metadata": {},
     "output_type": "execute_result"
    }
   ],
   "source": [
    "data[0]"
   ]
  },
  {
   "cell_type": "code",
   "execution_count": 20,
   "id": "31c7eb5e",
   "metadata": {},
   "outputs": [],
   "source": [
    "data = pd.Series([-5, 2, 7, 1, 2], index = ['a','b','c','d','e'])"
   ]
  },
  {
   "cell_type": "code",
   "execution_count": 21,
   "id": "ab09e8f8",
   "metadata": {},
   "outputs": [
    {
     "data": {
      "text/plain": [
       "a   -5\n",
       "b    2\n",
       "c    7\n",
       "d    1\n",
       "e    2\n",
       "dtype: int64"
      ]
     },
     "execution_count": 21,
     "metadata": {},
     "output_type": "execute_result"
    }
   ],
   "source": [
    "data"
   ]
  },
  {
   "cell_type": "code",
   "execution_count": 22,
   "id": "8ba1d171",
   "metadata": {},
   "outputs": [
    {
     "data": {
      "text/plain": [
       "1"
      ]
     },
     "execution_count": 22,
     "metadata": {},
     "output_type": "execute_result"
    }
   ],
   "source": [
    "data['d']"
   ]
  },
  {
   "cell_type": "code",
   "execution_count": 23,
   "id": "6a6c1960",
   "metadata": {},
   "outputs": [],
   "source": [
    "pd.Series?\n"
   ]
  },
  {
   "cell_type": "code",
   "execution_count": 24,
   "id": "6b9f694f",
   "metadata": {},
   "outputs": [
    {
     "data": {
      "text/plain": [
       "count    5.00000\n",
       "mean     1.40000\n",
       "std      4.27785\n",
       "min     -5.00000\n",
       "25%      1.00000\n",
       "50%      2.00000\n",
       "75%      2.00000\n",
       "max      7.00000\n",
       "dtype: float64"
      ]
     },
     "execution_count": 24,
     "metadata": {},
     "output_type": "execute_result"
    }
   ],
   "source": [
    "data.describe()"
   ]
  },
  {
   "cell_type": "code",
   "execution_count": 25,
   "id": "520d3733",
   "metadata": {},
   "outputs": [
    {
     "data": {
      "text/plain": [
       "2.0"
      ]
     },
     "execution_count": 25,
     "metadata": {},
     "output_type": "execute_result"
    }
   ],
   "source": [
    "data.median()"
   ]
  },
  {
   "cell_type": "code",
   "execution_count": 26,
   "id": "0a597a53",
   "metadata": {},
   "outputs": [
    {
     "data": {
      "text/plain": [
       "a    False\n",
       "b    False\n",
       "c    False\n",
       "d    False\n",
       "e     True\n",
       "dtype: bool"
      ]
     },
     "execution_count": 26,
     "metadata": {},
     "output_type": "execute_result"
    }
   ],
   "source": [
    "data.duplicated()"
   ]
  },
  {
   "cell_type": "markdown",
   "id": "58ffeb89",
   "metadata": {},
   "source": [
    "# DataFrame\n"
   ]
  },
  {
   "cell_type": "code",
   "execution_count": 31,
   "id": "f696bd21",
   "metadata": {},
   "outputs": [],
   "source": [
    "df = pd.DataFrame({'pais':['Brasil', 'chile','Argentina', 'Bolivia'],'Jogos':[120, 135, 78, 115]})"
   ]
  },
  {
   "cell_type": "code",
   "execution_count": 32,
   "id": "4542b735",
   "metadata": {},
   "outputs": [
    {
     "data": {
      "text/html": [
       "<div>\n",
       "<style scoped>\n",
       "    .dataframe tbody tr th:only-of-type {\n",
       "        vertical-align: middle;\n",
       "    }\n",
       "\n",
       "    .dataframe tbody tr th {\n",
       "        vertical-align: top;\n",
       "    }\n",
       "\n",
       "    .dataframe thead th {\n",
       "        text-align: right;\n",
       "    }\n",
       "</style>\n",
       "<table border=\"1\" class=\"dataframe\">\n",
       "  <thead>\n",
       "    <tr style=\"text-align: right;\">\n",
       "      <th></th>\n",
       "      <th>pais</th>\n",
       "      <th>Jogos</th>\n",
       "    </tr>\n",
       "  </thead>\n",
       "  <tbody>\n",
       "    <tr>\n",
       "      <th>0</th>\n",
       "      <td>Brasil</td>\n",
       "      <td>120</td>\n",
       "    </tr>\n",
       "    <tr>\n",
       "      <th>1</th>\n",
       "      <td>chile</td>\n",
       "      <td>135</td>\n",
       "    </tr>\n",
       "    <tr>\n",
       "      <th>2</th>\n",
       "      <td>Argentina</td>\n",
       "      <td>78</td>\n",
       "    </tr>\n",
       "    <tr>\n",
       "      <th>3</th>\n",
       "      <td>Bolivia</td>\n",
       "      <td>115</td>\n",
       "    </tr>\n",
       "  </tbody>\n",
       "</table>\n",
       "</div>"
      ],
      "text/plain": [
       "        pais  Jogos\n",
       "0     Brasil    120\n",
       "1      chile    135\n",
       "2  Argentina     78\n",
       "3    Bolivia    115"
      ]
     },
     "execution_count": 32,
     "metadata": {},
     "output_type": "execute_result"
    }
   ],
   "source": [
    "df"
   ]
  },
  {
   "cell_type": "code",
   "execution_count": 33,
   "id": "cbce0fb7",
   "metadata": {},
   "outputs": [
    {
     "data": {
      "text/plain": [
       "(4, 2)"
      ]
     },
     "execution_count": 33,
     "metadata": {},
     "output_type": "execute_result"
    }
   ],
   "source": [
    "df.shape"
   ]
  },
  {
   "cell_type": "code",
   "execution_count": 34,
   "id": "7263f9a4",
   "metadata": {},
   "outputs": [
    {
     "data": {
      "text/plain": [
       "0       Brasil\n",
       "1        chile\n",
       "2    Argentina\n",
       "3      Bolivia\n",
       "Name: pais, dtype: object"
      ]
     },
     "execution_count": 34,
     "metadata": {},
     "output_type": "execute_result"
    }
   ],
   "source": [
    "df['pais']"
   ]
  },
  {
   "cell_type": "code",
   "execution_count": 35,
   "id": "c125b103",
   "metadata": {},
   "outputs": [
    {
     "data": {
      "text/plain": [
       "pandas.core.series.Series"
      ]
     },
     "execution_count": 35,
     "metadata": {},
     "output_type": "execute_result"
    }
   ],
   "source": [
    "type(df['pais'])"
   ]
  },
  {
   "cell_type": "code",
   "execution_count": 36,
   "id": "61087391",
   "metadata": {},
   "outputs": [
    {
     "data": {
      "text/plain": [
       "count      4.000000\n",
       "mean     112.000000\n",
       "std       24.207437\n",
       "min       78.000000\n",
       "25%      105.750000\n",
       "50%      117.500000\n",
       "75%      123.750000\n",
       "max      135.000000\n",
       "Name: Jogos, dtype: float64"
      ]
     },
     "execution_count": 36,
     "metadata": {},
     "output_type": "execute_result"
    }
   ],
   "source": [
    "df['Jogos'].describe()"
   ]
  },
  {
   "cell_type": "code",
   "execution_count": 37,
   "id": "c7a17019",
   "metadata": {},
   "outputs": [
    {
     "data": {
      "text/plain": [
       "'Argentina'"
      ]
     },
     "execution_count": 37,
     "metadata": {},
     "output_type": "execute_result"
    }
   ],
   "source": [
    "df['pais'][2]"
   ]
  },
  {
   "cell_type": "code",
   "execution_count": 39,
   "id": "fd47f58c",
   "metadata": {},
   "outputs": [],
   "source": [
    "pd.DataFrame?\n"
   ]
  },
  {
   "cell_type": "markdown",
   "id": "b653721c",
   "metadata": {},
   "source": [
    "# Importando arquivo dataset"
   ]
  },
  {
   "cell_type": "code",
   "execution_count": 40,
   "id": "4b2549bb",
   "metadata": {},
   "outputs": [],
   "source": [
    "data = pd.read_csv('dados.csv')"
   ]
  },
  {
   "cell_type": "code",
   "execution_count": 41,
   "id": "10932a77",
   "metadata": {},
   "outputs": [
    {
     "data": {
      "text/html": [
       "<div>\n",
       "<style scoped>\n",
       "    .dataframe tbody tr th:only-of-type {\n",
       "        vertical-align: middle;\n",
       "    }\n",
       "\n",
       "    .dataframe tbody tr th {\n",
       "        vertical-align: top;\n",
       "    }\n",
       "\n",
       "    .dataframe thead th {\n",
       "        text-align: right;\n",
       "    }\n",
       "</style>\n",
       "<table border=\"1\" class=\"dataframe\">\n",
       "  <thead>\n",
       "    <tr style=\"text-align: right;\">\n",
       "      <th></th>\n",
       "      <th>condominio</th>\n",
       "      <th>quartos</th>\n",
       "      <th>suites</th>\n",
       "      <th>vagas</th>\n",
       "      <th>area</th>\n",
       "      <th>bairro</th>\n",
       "      <th>preco</th>\n",
       "      <th>pm2</th>\n",
       "    </tr>\n",
       "  </thead>\n",
       "  <tbody>\n",
       "    <tr>\n",
       "      <th>0</th>\n",
       "      <td>350</td>\n",
       "      <td>1</td>\n",
       "      <td>0.0</td>\n",
       "      <td>1.0</td>\n",
       "      <td>21</td>\n",
       "      <td>Botafogo</td>\n",
       "      <td>340000</td>\n",
       "      <td>16190.48</td>\n",
       "    </tr>\n",
       "    <tr>\n",
       "      <th>1</th>\n",
       "      <td>800</td>\n",
       "      <td>1</td>\n",
       "      <td>0.0</td>\n",
       "      <td>1.0</td>\n",
       "      <td>64</td>\n",
       "      <td>Botafogo</td>\n",
       "      <td>770000</td>\n",
       "      <td>12031.25</td>\n",
       "    </tr>\n",
       "    <tr>\n",
       "      <th>2</th>\n",
       "      <td>674</td>\n",
       "      <td>1</td>\n",
       "      <td>0.0</td>\n",
       "      <td>1.0</td>\n",
       "      <td>61</td>\n",
       "      <td>Botafogo</td>\n",
       "      <td>600000</td>\n",
       "      <td>9836.07</td>\n",
       "    </tr>\n",
       "    <tr>\n",
       "      <th>3</th>\n",
       "      <td>700</td>\n",
       "      <td>1</td>\n",
       "      <td>1.0</td>\n",
       "      <td>1.0</td>\n",
       "      <td>70</td>\n",
       "      <td>Botafogo</td>\n",
       "      <td>700000</td>\n",
       "      <td>10000.00</td>\n",
       "    </tr>\n",
       "    <tr>\n",
       "      <th>4</th>\n",
       "      <td>440</td>\n",
       "      <td>1</td>\n",
       "      <td>0.0</td>\n",
       "      <td>1.0</td>\n",
       "      <td>44</td>\n",
       "      <td>Botafogo</td>\n",
       "      <td>515000</td>\n",
       "      <td>11704.55</td>\n",
       "    </tr>\n",
       "    <tr>\n",
       "      <th>...</th>\n",
       "      <td>...</td>\n",
       "      <td>...</td>\n",
       "      <td>...</td>\n",
       "      <td>...</td>\n",
       "      <td>...</td>\n",
       "      <td>...</td>\n",
       "      <td>...</td>\n",
       "      <td>...</td>\n",
       "    </tr>\n",
       "    <tr>\n",
       "      <th>1992</th>\n",
       "      <td>1080</td>\n",
       "      <td>3</td>\n",
       "      <td>1.0</td>\n",
       "      <td>1.0</td>\n",
       "      <td>80</td>\n",
       "      <td>Tijuca</td>\n",
       "      <td>680000</td>\n",
       "      <td>8500.00</td>\n",
       "    </tr>\n",
       "    <tr>\n",
       "      <th>1993</th>\n",
       "      <td>750</td>\n",
       "      <td>3</td>\n",
       "      <td>0.0</td>\n",
       "      <td>1.0</td>\n",
       "      <td>82</td>\n",
       "      <td>Tijuca</td>\n",
       "      <td>650000</td>\n",
       "      <td>7926.83</td>\n",
       "    </tr>\n",
       "    <tr>\n",
       "      <th>1994</th>\n",
       "      <td>700</td>\n",
       "      <td>3</td>\n",
       "      <td>1.0</td>\n",
       "      <td>1.0</td>\n",
       "      <td>100</td>\n",
       "      <td>Tijuca</td>\n",
       "      <td>629900</td>\n",
       "      <td>6299.00</td>\n",
       "    </tr>\n",
       "    <tr>\n",
       "      <th>1995</th>\n",
       "      <td>1850</td>\n",
       "      <td>3</td>\n",
       "      <td>1.0</td>\n",
       "      <td>2.0</td>\n",
       "      <td>166</td>\n",
       "      <td>Tijuca</td>\n",
       "      <td>1600000</td>\n",
       "      <td>9638.55</td>\n",
       "    </tr>\n",
       "    <tr>\n",
       "      <th>1996</th>\n",
       "      <td>800</td>\n",
       "      <td>3</td>\n",
       "      <td>1.0</td>\n",
       "      <td>1.0</td>\n",
       "      <td>107</td>\n",
       "      <td>Tijuca</td>\n",
       "      <td>540000</td>\n",
       "      <td>5046.73</td>\n",
       "    </tr>\n",
       "  </tbody>\n",
       "</table>\n",
       "<p>1997 rows × 8 columns</p>\n",
       "</div>"
      ],
      "text/plain": [
       "      condominio  quartos  suites  vagas  area    bairro    preco       pm2\n",
       "0            350        1     0.0    1.0    21  Botafogo   340000  16190.48\n",
       "1            800        1     0.0    1.0    64  Botafogo   770000  12031.25\n",
       "2            674        1     0.0    1.0    61  Botafogo   600000   9836.07\n",
       "3            700        1     1.0    1.0    70  Botafogo   700000  10000.00\n",
       "4            440        1     0.0    1.0    44  Botafogo   515000  11704.55\n",
       "...          ...      ...     ...    ...   ...       ...      ...       ...\n",
       "1992        1080        3     1.0    1.0    80    Tijuca   680000   8500.00\n",
       "1993         750        3     0.0    1.0    82    Tijuca   650000   7926.83\n",
       "1994         700        3     1.0    1.0   100    Tijuca   629900   6299.00\n",
       "1995        1850        3     1.0    2.0   166    Tijuca  1600000   9638.55\n",
       "1996         800        3     1.0    1.0   107    Tijuca   540000   5046.73\n",
       "\n",
       "[1997 rows x 8 columns]"
      ]
     },
     "execution_count": 41,
     "metadata": {},
     "output_type": "execute_result"
    }
   ],
   "source": [
    "data "
   ]
  },
  {
   "cell_type": "code",
   "execution_count": 42,
   "id": "345e3084",
   "metadata": {},
   "outputs": [
    {
     "data": {
      "text/plain": [
       "(1997, 8)"
      ]
     },
     "execution_count": 42,
     "metadata": {},
     "output_type": "execute_result"
    }
   ],
   "source": [
    "data.shape"
   ]
  },
  {
   "cell_type": "code",
   "execution_count": 44,
   "id": "a7f52f8f",
   "metadata": {},
   "outputs": [
    {
     "data": {
      "text/html": [
       "<div>\n",
       "<style scoped>\n",
       "    .dataframe tbody tr th:only-of-type {\n",
       "        vertical-align: middle;\n",
       "    }\n",
       "\n",
       "    .dataframe tbody tr th {\n",
       "        vertical-align: top;\n",
       "    }\n",
       "\n",
       "    .dataframe thead th {\n",
       "        text-align: right;\n",
       "    }\n",
       "</style>\n",
       "<table border=\"1\" class=\"dataframe\">\n",
       "  <thead>\n",
       "    <tr style=\"text-align: right;\">\n",
       "      <th></th>\n",
       "      <th>condominio</th>\n",
       "      <th>quartos</th>\n",
       "      <th>suites</th>\n",
       "      <th>vagas</th>\n",
       "      <th>area</th>\n",
       "      <th>bairro</th>\n",
       "      <th>preco</th>\n",
       "      <th>pm2</th>\n",
       "    </tr>\n",
       "  </thead>\n",
       "  <tbody>\n",
       "    <tr>\n",
       "      <th>0</th>\n",
       "      <td>350</td>\n",
       "      <td>1</td>\n",
       "      <td>0.0</td>\n",
       "      <td>1.0</td>\n",
       "      <td>21</td>\n",
       "      <td>Botafogo</td>\n",
       "      <td>340000</td>\n",
       "      <td>16190.48</td>\n",
       "    </tr>\n",
       "    <tr>\n",
       "      <th>1</th>\n",
       "      <td>800</td>\n",
       "      <td>1</td>\n",
       "      <td>0.0</td>\n",
       "      <td>1.0</td>\n",
       "      <td>64</td>\n",
       "      <td>Botafogo</td>\n",
       "      <td>770000</td>\n",
       "      <td>12031.25</td>\n",
       "    </tr>\n",
       "    <tr>\n",
       "      <th>2</th>\n",
       "      <td>674</td>\n",
       "      <td>1</td>\n",
       "      <td>0.0</td>\n",
       "      <td>1.0</td>\n",
       "      <td>61</td>\n",
       "      <td>Botafogo</td>\n",
       "      <td>600000</td>\n",
       "      <td>9836.07</td>\n",
       "    </tr>\n",
       "    <tr>\n",
       "      <th>3</th>\n",
       "      <td>700</td>\n",
       "      <td>1</td>\n",
       "      <td>1.0</td>\n",
       "      <td>1.0</td>\n",
       "      <td>70</td>\n",
       "      <td>Botafogo</td>\n",
       "      <td>700000</td>\n",
       "      <td>10000.00</td>\n",
       "    </tr>\n",
       "    <tr>\n",
       "      <th>4</th>\n",
       "      <td>440</td>\n",
       "      <td>1</td>\n",
       "      <td>0.0</td>\n",
       "      <td>1.0</td>\n",
       "      <td>44</td>\n",
       "      <td>Botafogo</td>\n",
       "      <td>515000</td>\n",
       "      <td>11704.55</td>\n",
       "    </tr>\n",
       "    <tr>\n",
       "      <th>5</th>\n",
       "      <td>917</td>\n",
       "      <td>1</td>\n",
       "      <td>1.0</td>\n",
       "      <td>1.0</td>\n",
       "      <td>60</td>\n",
       "      <td>Botafogo</td>\n",
       "      <td>630000</td>\n",
       "      <td>10500.00</td>\n",
       "    </tr>\n",
       "    <tr>\n",
       "      <th>6</th>\n",
       "      <td>850</td>\n",
       "      <td>1</td>\n",
       "      <td>1.0</td>\n",
       "      <td>1.0</td>\n",
       "      <td>65</td>\n",
       "      <td>Botafogo</td>\n",
       "      <td>740000</td>\n",
       "      <td>11384.62</td>\n",
       "    </tr>\n",
       "    <tr>\n",
       "      <th>7</th>\n",
       "      <td>350</td>\n",
       "      <td>1</td>\n",
       "      <td>1.0</td>\n",
       "      <td>1.0</td>\n",
       "      <td>43</td>\n",
       "      <td>Botafogo</td>\n",
       "      <td>570000</td>\n",
       "      <td>13255.81</td>\n",
       "    </tr>\n",
       "    <tr>\n",
       "      <th>8</th>\n",
       "      <td>440</td>\n",
       "      <td>1</td>\n",
       "      <td>1.0</td>\n",
       "      <td>1.0</td>\n",
       "      <td>26</td>\n",
       "      <td>Botafogo</td>\n",
       "      <td>430000</td>\n",
       "      <td>16538.46</td>\n",
       "    </tr>\n",
       "    <tr>\n",
       "      <th>9</th>\n",
       "      <td>510</td>\n",
       "      <td>1</td>\n",
       "      <td>1.0</td>\n",
       "      <td>1.0</td>\n",
       "      <td>42</td>\n",
       "      <td>Botafogo</td>\n",
       "      <td>500000</td>\n",
       "      <td>11904.76</td>\n",
       "    </tr>\n",
       "    <tr>\n",
       "      <th>10</th>\n",
       "      <td>200</td>\n",
       "      <td>1</td>\n",
       "      <td>0.0</td>\n",
       "      <td>1.0</td>\n",
       "      <td>35</td>\n",
       "      <td>Botafogo</td>\n",
       "      <td>500000</td>\n",
       "      <td>14285.71</td>\n",
       "    </tr>\n",
       "    <tr>\n",
       "      <th>11</th>\n",
       "      <td>552</td>\n",
       "      <td>1</td>\n",
       "      <td>1.0</td>\n",
       "      <td>1.0</td>\n",
       "      <td>67</td>\n",
       "      <td>Botafogo</td>\n",
       "      <td>790000</td>\n",
       "      <td>11791.04</td>\n",
       "    </tr>\n",
       "    <tr>\n",
       "      <th>12</th>\n",
       "      <td>495</td>\n",
       "      <td>1</td>\n",
       "      <td>1.0</td>\n",
       "      <td>1.0</td>\n",
       "      <td>54</td>\n",
       "      <td>Botafogo</td>\n",
       "      <td>515000</td>\n",
       "      <td>9537.04</td>\n",
       "    </tr>\n",
       "    <tr>\n",
       "      <th>13</th>\n",
       "      <td>340</td>\n",
       "      <td>1</td>\n",
       "      <td>1.0</td>\n",
       "      <td>1.0</td>\n",
       "      <td>40</td>\n",
       "      <td>Botafogo</td>\n",
       "      <td>410000</td>\n",
       "      <td>10250.00</td>\n",
       "    </tr>\n",
       "    <tr>\n",
       "      <th>14</th>\n",
       "      <td>800</td>\n",
       "      <td>1</td>\n",
       "      <td>1.0</td>\n",
       "      <td>1.0</td>\n",
       "      <td>60</td>\n",
       "      <td>Botafogo</td>\n",
       "      <td>625000</td>\n",
       "      <td>10416.67</td>\n",
       "    </tr>\n",
       "  </tbody>\n",
       "</table>\n",
       "</div>"
      ],
      "text/plain": [
       "    condominio  quartos  suites  vagas  area    bairro   preco       pm2\n",
       "0          350        1     0.0    1.0    21  Botafogo  340000  16190.48\n",
       "1          800        1     0.0    1.0    64  Botafogo  770000  12031.25\n",
       "2          674        1     0.0    1.0    61  Botafogo  600000   9836.07\n",
       "3          700        1     1.0    1.0    70  Botafogo  700000  10000.00\n",
       "4          440        1     0.0    1.0    44  Botafogo  515000  11704.55\n",
       "5          917        1     1.0    1.0    60  Botafogo  630000  10500.00\n",
       "6          850        1     1.0    1.0    65  Botafogo  740000  11384.62\n",
       "7          350        1     1.0    1.0    43  Botafogo  570000  13255.81\n",
       "8          440        1     1.0    1.0    26  Botafogo  430000  16538.46\n",
       "9          510        1     1.0    1.0    42  Botafogo  500000  11904.76\n",
       "10         200        1     0.0    1.0    35  Botafogo  500000  14285.71\n",
       "11         552        1     1.0    1.0    67  Botafogo  790000  11791.04\n",
       "12         495        1     1.0    1.0    54  Botafogo  515000   9537.04\n",
       "13         340        1     1.0    1.0    40  Botafogo  410000  10250.00\n",
       "14         800        1     1.0    1.0    60  Botafogo  625000  10416.67"
      ]
     },
     "execution_count": 44,
     "metadata": {},
     "output_type": "execute_result"
    }
   ],
   "source": [
    "data.head(15)"
   ]
  },
  {
   "cell_type": "code",
   "execution_count": 45,
   "id": "dc986eab",
   "metadata": {},
   "outputs": [
    {
     "data": {
      "text/html": [
       "<div>\n",
       "<style scoped>\n",
       "    .dataframe tbody tr th:only-of-type {\n",
       "        vertical-align: middle;\n",
       "    }\n",
       "\n",
       "    .dataframe tbody tr th {\n",
       "        vertical-align: top;\n",
       "    }\n",
       "\n",
       "    .dataframe thead th {\n",
       "        text-align: right;\n",
       "    }\n",
       "</style>\n",
       "<table border=\"1\" class=\"dataframe\">\n",
       "  <thead>\n",
       "    <tr style=\"text-align: right;\">\n",
       "      <th></th>\n",
       "      <th>condominio</th>\n",
       "      <th>quartos</th>\n",
       "      <th>suites</th>\n",
       "      <th>vagas</th>\n",
       "      <th>area</th>\n",
       "      <th>bairro</th>\n",
       "      <th>preco</th>\n",
       "      <th>pm2</th>\n",
       "    </tr>\n",
       "  </thead>\n",
       "  <tbody>\n",
       "    <tr>\n",
       "      <th>1982</th>\n",
       "      <td>1100</td>\n",
       "      <td>3</td>\n",
       "      <td>1.0</td>\n",
       "      <td>1.0</td>\n",
       "      <td>110</td>\n",
       "      <td>Tijuca</td>\n",
       "      <td>750000</td>\n",
       "      <td>6818.18</td>\n",
       "    </tr>\n",
       "    <tr>\n",
       "      <th>1983</th>\n",
       "      <td>950</td>\n",
       "      <td>3</td>\n",
       "      <td>1.0</td>\n",
       "      <td>1.0</td>\n",
       "      <td>105</td>\n",
       "      <td>Tijuca</td>\n",
       "      <td>730000</td>\n",
       "      <td>6952.38</td>\n",
       "    </tr>\n",
       "    <tr>\n",
       "      <th>1984</th>\n",
       "      <td>970</td>\n",
       "      <td>3</td>\n",
       "      <td>1.0</td>\n",
       "      <td>1.0</td>\n",
       "      <td>110</td>\n",
       "      <td>Tijuca</td>\n",
       "      <td>650000</td>\n",
       "      <td>5909.09</td>\n",
       "    </tr>\n",
       "    <tr>\n",
       "      <th>1985</th>\n",
       "      <td>1336</td>\n",
       "      <td>3</td>\n",
       "      <td>2.0</td>\n",
       "      <td>1.0</td>\n",
       "      <td>120</td>\n",
       "      <td>Tijuca</td>\n",
       "      <td>850000</td>\n",
       "      <td>7083.33</td>\n",
       "    </tr>\n",
       "    <tr>\n",
       "      <th>1986</th>\n",
       "      <td>900</td>\n",
       "      <td>3</td>\n",
       "      <td>1.0</td>\n",
       "      <td>1.0</td>\n",
       "      <td>90</td>\n",
       "      <td>Tijuca</td>\n",
       "      <td>860000</td>\n",
       "      <td>9555.56</td>\n",
       "    </tr>\n",
       "    <tr>\n",
       "      <th>1987</th>\n",
       "      <td>880</td>\n",
       "      <td>3</td>\n",
       "      <td>1.0</td>\n",
       "      <td>1.0</td>\n",
       "      <td>100</td>\n",
       "      <td>Tijuca</td>\n",
       "      <td>800000</td>\n",
       "      <td>8000.00</td>\n",
       "    </tr>\n",
       "    <tr>\n",
       "      <th>1988</th>\n",
       "      <td>870</td>\n",
       "      <td>3</td>\n",
       "      <td>1.0</td>\n",
       "      <td>1.0</td>\n",
       "      <td>100</td>\n",
       "      <td>Tijuca</td>\n",
       "      <td>580000</td>\n",
       "      <td>5800.00</td>\n",
       "    </tr>\n",
       "    <tr>\n",
       "      <th>1989</th>\n",
       "      <td>400</td>\n",
       "      <td>3</td>\n",
       "      <td>1.0</td>\n",
       "      <td>1.0</td>\n",
       "      <td>92</td>\n",
       "      <td>Tijuca</td>\n",
       "      <td>480000</td>\n",
       "      <td>5217.39</td>\n",
       "    </tr>\n",
       "    <tr>\n",
       "      <th>1990</th>\n",
       "      <td>686</td>\n",
       "      <td>3</td>\n",
       "      <td>0.0</td>\n",
       "      <td>1.0</td>\n",
       "      <td>105</td>\n",
       "      <td>Tijuca</td>\n",
       "      <td>490000</td>\n",
       "      <td>4666.67</td>\n",
       "    </tr>\n",
       "    <tr>\n",
       "      <th>1991</th>\n",
       "      <td>450</td>\n",
       "      <td>3</td>\n",
       "      <td>1.0</td>\n",
       "      <td>1.0</td>\n",
       "      <td>72</td>\n",
       "      <td>Tijuca</td>\n",
       "      <td>435000</td>\n",
       "      <td>6041.67</td>\n",
       "    </tr>\n",
       "    <tr>\n",
       "      <th>1992</th>\n",
       "      <td>1080</td>\n",
       "      <td>3</td>\n",
       "      <td>1.0</td>\n",
       "      <td>1.0</td>\n",
       "      <td>80</td>\n",
       "      <td>Tijuca</td>\n",
       "      <td>680000</td>\n",
       "      <td>8500.00</td>\n",
       "    </tr>\n",
       "    <tr>\n",
       "      <th>1993</th>\n",
       "      <td>750</td>\n",
       "      <td>3</td>\n",
       "      <td>0.0</td>\n",
       "      <td>1.0</td>\n",
       "      <td>82</td>\n",
       "      <td>Tijuca</td>\n",
       "      <td>650000</td>\n",
       "      <td>7926.83</td>\n",
       "    </tr>\n",
       "    <tr>\n",
       "      <th>1994</th>\n",
       "      <td>700</td>\n",
       "      <td>3</td>\n",
       "      <td>1.0</td>\n",
       "      <td>1.0</td>\n",
       "      <td>100</td>\n",
       "      <td>Tijuca</td>\n",
       "      <td>629900</td>\n",
       "      <td>6299.00</td>\n",
       "    </tr>\n",
       "    <tr>\n",
       "      <th>1995</th>\n",
       "      <td>1850</td>\n",
       "      <td>3</td>\n",
       "      <td>1.0</td>\n",
       "      <td>2.0</td>\n",
       "      <td>166</td>\n",
       "      <td>Tijuca</td>\n",
       "      <td>1600000</td>\n",
       "      <td>9638.55</td>\n",
       "    </tr>\n",
       "    <tr>\n",
       "      <th>1996</th>\n",
       "      <td>800</td>\n",
       "      <td>3</td>\n",
       "      <td>1.0</td>\n",
       "      <td>1.0</td>\n",
       "      <td>107</td>\n",
       "      <td>Tijuca</td>\n",
       "      <td>540000</td>\n",
       "      <td>5046.73</td>\n",
       "    </tr>\n",
       "  </tbody>\n",
       "</table>\n",
       "</div>"
      ],
      "text/plain": [
       "      condominio  quartos  suites  vagas  area  bairro    preco      pm2\n",
       "1982        1100        3     1.0    1.0   110  Tijuca   750000  6818.18\n",
       "1983         950        3     1.0    1.0   105  Tijuca   730000  6952.38\n",
       "1984         970        3     1.0    1.0   110  Tijuca   650000  5909.09\n",
       "1985        1336        3     2.0    1.0   120  Tijuca   850000  7083.33\n",
       "1986         900        3     1.0    1.0    90  Tijuca   860000  9555.56\n",
       "1987         880        3     1.0    1.0   100  Tijuca   800000  8000.00\n",
       "1988         870        3     1.0    1.0   100  Tijuca   580000  5800.00\n",
       "1989         400        3     1.0    1.0    92  Tijuca   480000  5217.39\n",
       "1990         686        3     0.0    1.0   105  Tijuca   490000  4666.67\n",
       "1991         450        3     1.0    1.0    72  Tijuca   435000  6041.67\n",
       "1992        1080        3     1.0    1.0    80  Tijuca   680000  8500.00\n",
       "1993         750        3     0.0    1.0    82  Tijuca   650000  7926.83\n",
       "1994         700        3     1.0    1.0   100  Tijuca   629900  6299.00\n",
       "1995        1850        3     1.0    2.0   166  Tijuca  1600000  9638.55\n",
       "1996         800        3     1.0    1.0   107  Tijuca   540000  5046.73"
      ]
     },
     "execution_count": 45,
     "metadata": {},
     "output_type": "execute_result"
    }
   ],
   "source": [
    "data.tail(15)"
   ]
  },
  {
   "cell_type": "code",
   "execution_count": 46,
   "id": "5b28d67f",
   "metadata": {},
   "outputs": [
    {
     "data": {
      "text/plain": [
       "condominio      int64\n",
       "quartos         int64\n",
       "suites        float64\n",
       "vagas         float64\n",
       "area            int64\n",
       "bairro         object\n",
       "preco           int64\n",
       "pm2           float64\n",
       "dtype: object"
      ]
     },
     "execution_count": 46,
     "metadata": {},
     "output_type": "execute_result"
    }
   ],
   "source": [
    "data.dtypes "
   ]
  },
  {
   "cell_type": "code",
   "execution_count": 47,
   "id": "195c659c",
   "metadata": {},
   "outputs": [
    {
     "data": {
      "text/plain": [
       "count    1.997000e+03\n",
       "mean     1.229410e+06\n",
       "std      1.155809e+06\n",
       "min      1.300000e+05\n",
       "25%      5.600000e+05\n",
       "50%      9.000000e+05\n",
       "75%      1.550000e+06\n",
       "max      1.360000e+07\n",
       "Name: preco, dtype: float64"
      ]
     },
     "execution_count": 47,
     "metadata": {},
     "output_type": "execute_result"
    }
   ],
   "source": [
    "data['preco'].describe()"
   ]
  },
  {
   "cell_type": "code",
   "execution_count": 48,
   "id": "60dbecce",
   "metadata": {},
   "outputs": [
    {
     "data": {
      "text/plain": [
       "1229410.1467200802"
      ]
     },
     "execution_count": 48,
     "metadata": {},
     "output_type": "execute_result"
    }
   ],
   "source": [
    "data['preco'].mean()"
   ]
  },
  {
   "cell_type": "code",
   "execution_count": 49,
   "id": "7dd88a8f",
   "metadata": {},
   "outputs": [
    {
     "data": {
      "text/plain": [
       "count    1997.000000\n",
       "mean      971.087631\n",
       "std       653.893691\n",
       "min         1.000000\n",
       "25%       550.000000\n",
       "50%       800.000000\n",
       "75%      1200.000000\n",
       "max      7071.000000\n",
       "Name: condominio, dtype: float64"
      ]
     },
     "execution_count": 49,
     "metadata": {},
     "output_type": "execute_result"
    }
   ],
   "source": [
    "data['condominio'].describe()"
   ]
  },
  {
   "cell_type": "code",
   "execution_count": null,
   "id": "d570c41e",
   "metadata": {},
   "outputs": [],
   "source": []
  },
  {
   "cell_type": "code",
   "execution_count": 50,
   "id": "f416ff67",
   "metadata": {},
   "outputs": [
    {
     "data": {
      "text/html": [
       "<div>\n",
       "<style scoped>\n",
       "    .dataframe tbody tr th:only-of-type {\n",
       "        vertical-align: middle;\n",
       "    }\n",
       "\n",
       "    .dataframe tbody tr th {\n",
       "        vertical-align: top;\n",
       "    }\n",
       "\n",
       "    .dataframe thead th {\n",
       "        text-align: right;\n",
       "    }\n",
       "</style>\n",
       "<table border=\"1\" class=\"dataframe\">\n",
       "  <thead>\n",
       "    <tr style=\"text-align: right;\">\n",
       "      <th></th>\n",
       "      <th>condominio</th>\n",
       "      <th>quartos</th>\n",
       "      <th>suites</th>\n",
       "      <th>vagas</th>\n",
       "      <th>area</th>\n",
       "      <th>preco</th>\n",
       "      <th>pm2</th>\n",
       "    </tr>\n",
       "  </thead>\n",
       "  <tbody>\n",
       "    <tr>\n",
       "      <th>count</th>\n",
       "      <td>1997.000000</td>\n",
       "      <td>1997.000000</td>\n",
       "      <td>1997.000000</td>\n",
       "      <td>1997.000000</td>\n",
       "      <td>1997.000000</td>\n",
       "      <td>1.997000e+03</td>\n",
       "      <td>1997.00000</td>\n",
       "    </tr>\n",
       "    <tr>\n",
       "      <th>mean</th>\n",
       "      <td>971.087631</td>\n",
       "      <td>2.128693</td>\n",
       "      <td>1.039559</td>\n",
       "      <td>1.153230</td>\n",
       "      <td>90.051577</td>\n",
       "      <td>1.229410e+06</td>\n",
       "      <td>13256.74635</td>\n",
       "    </tr>\n",
       "    <tr>\n",
       "      <th>std</th>\n",
       "      <td>653.893691</td>\n",
       "      <td>0.793866</td>\n",
       "      <td>0.443091</td>\n",
       "      <td>0.453837</td>\n",
       "      <td>46.417486</td>\n",
       "      <td>1.155809e+06</td>\n",
       "      <td>6977.37614</td>\n",
       "    </tr>\n",
       "    <tr>\n",
       "      <th>min</th>\n",
       "      <td>1.000000</td>\n",
       "      <td>1.000000</td>\n",
       "      <td>0.000000</td>\n",
       "      <td>0.000000</td>\n",
       "      <td>19.000000</td>\n",
       "      <td>1.300000e+05</td>\n",
       "      <td>2600.00000</td>\n",
       "    </tr>\n",
       "    <tr>\n",
       "      <th>25%</th>\n",
       "      <td>550.000000</td>\n",
       "      <td>1.000000</td>\n",
       "      <td>1.000000</td>\n",
       "      <td>1.000000</td>\n",
       "      <td>60.000000</td>\n",
       "      <td>5.600000e+05</td>\n",
       "      <td>7894.74000</td>\n",
       "    </tr>\n",
       "    <tr>\n",
       "      <th>50%</th>\n",
       "      <td>800.000000</td>\n",
       "      <td>2.000000</td>\n",
       "      <td>1.000000</td>\n",
       "      <td>1.000000</td>\n",
       "      <td>80.000000</td>\n",
       "      <td>9.000000e+05</td>\n",
       "      <td>11904.76000</td>\n",
       "    </tr>\n",
       "    <tr>\n",
       "      <th>75%</th>\n",
       "      <td>1200.000000</td>\n",
       "      <td>3.000000</td>\n",
       "      <td>1.000000</td>\n",
       "      <td>1.000000</td>\n",
       "      <td>110.000000</td>\n",
       "      <td>1.550000e+06</td>\n",
       "      <td>17156.86000</td>\n",
       "    </tr>\n",
       "    <tr>\n",
       "      <th>max</th>\n",
       "      <td>7071.000000</td>\n",
       "      <td>3.000000</td>\n",
       "      <td>3.000000</td>\n",
       "      <td>4.000000</td>\n",
       "      <td>475.000000</td>\n",
       "      <td>1.360000e+07</td>\n",
       "      <td>76666.67000</td>\n",
       "    </tr>\n",
       "  </tbody>\n",
       "</table>\n",
       "</div>"
      ],
      "text/plain": [
       "        condominio      quartos       suites        vagas         area  \\\n",
       "count  1997.000000  1997.000000  1997.000000  1997.000000  1997.000000   \n",
       "mean    971.087631     2.128693     1.039559     1.153230    90.051577   \n",
       "std     653.893691     0.793866     0.443091     0.453837    46.417486   \n",
       "min       1.000000     1.000000     0.000000     0.000000    19.000000   \n",
       "25%     550.000000     1.000000     1.000000     1.000000    60.000000   \n",
       "50%     800.000000     2.000000     1.000000     1.000000    80.000000   \n",
       "75%    1200.000000     3.000000     1.000000     1.000000   110.000000   \n",
       "max    7071.000000     3.000000     3.000000     4.000000   475.000000   \n",
       "\n",
       "              preco          pm2  \n",
       "count  1.997000e+03   1997.00000  \n",
       "mean   1.229410e+06  13256.74635  \n",
       "std    1.155809e+06   6977.37614  \n",
       "min    1.300000e+05   2600.00000  \n",
       "25%    5.600000e+05   7894.74000  \n",
       "50%    9.000000e+05  11904.76000  \n",
       "75%    1.550000e+06  17156.86000  \n",
       "max    1.360000e+07  76666.67000  "
      ]
     },
     "execution_count": 50,
     "metadata": {},
     "output_type": "execute_result"
    }
   ],
   "source": [
    "data.describe()"
   ]
  },
  {
   "cell_type": "code",
   "execution_count": 51,
   "id": "0d3d79ed",
   "metadata": {},
   "outputs": [
    {
     "data": {
      "text/plain": [
       "1.0    1645\n",
       "2.0     292\n",
       "0.0      38\n",
       "3.0      14\n",
       "4.0       8\n",
       "Name: vagas, dtype: int64"
      ]
     },
     "execution_count": 51,
     "metadata": {},
     "output_type": "execute_result"
    }
   ],
   "source": [
    "data['vagas'].value_counts()"
   ]
  },
  {
   "cell_type": "code",
   "execution_count": 67,
   "id": "54b20bed",
   "metadata": {},
   "outputs": [
    {
     "data": {
      "text/html": [
       "<div>\n",
       "<style scoped>\n",
       "    .dataframe tbody tr th:only-of-type {\n",
       "        vertical-align: middle;\n",
       "    }\n",
       "\n",
       "    .dataframe tbody tr th {\n",
       "        vertical-align: top;\n",
       "    }\n",
       "\n",
       "    .dataframe thead th {\n",
       "        text-align: right;\n",
       "    }\n",
       "</style>\n",
       "<table border=\"1\" class=\"dataframe\">\n",
       "  <thead>\n",
       "    <tr style=\"text-align: right;\">\n",
       "      <th></th>\n",
       "      <th>condominio</th>\n",
       "      <th>quartos</th>\n",
       "      <th>suites</th>\n",
       "      <th>vagas</th>\n",
       "      <th>area</th>\n",
       "      <th>bairro</th>\n",
       "      <th>preco</th>\n",
       "      <th>pm2</th>\n",
       "    </tr>\n",
       "  </thead>\n",
       "  <tbody>\n",
       "    <tr>\n",
       "      <th>0</th>\n",
       "      <td>350</td>\n",
       "      <td>1</td>\n",
       "      <td>0.0</td>\n",
       "      <td>1.0</td>\n",
       "      <td>21</td>\n",
       "      <td>Botafogo</td>\n",
       "      <td>340000</td>\n",
       "      <td>16190.48</td>\n",
       "    </tr>\n",
       "    <tr>\n",
       "      <th>1</th>\n",
       "      <td>800</td>\n",
       "      <td>1</td>\n",
       "      <td>0.0</td>\n",
       "      <td>1.0</td>\n",
       "      <td>64</td>\n",
       "      <td>Botafogo</td>\n",
       "      <td>770000</td>\n",
       "      <td>12031.25</td>\n",
       "    </tr>\n",
       "    <tr>\n",
       "      <th>2</th>\n",
       "      <td>674</td>\n",
       "      <td>1</td>\n",
       "      <td>0.0</td>\n",
       "      <td>1.0</td>\n",
       "      <td>61</td>\n",
       "      <td>Botafogo</td>\n",
       "      <td>600000</td>\n",
       "      <td>9836.07</td>\n",
       "    </tr>\n",
       "    <tr>\n",
       "      <th>3</th>\n",
       "      <td>700</td>\n",
       "      <td>1</td>\n",
       "      <td>1.0</td>\n",
       "      <td>1.0</td>\n",
       "      <td>70</td>\n",
       "      <td>Botafogo</td>\n",
       "      <td>700000</td>\n",
       "      <td>10000.00</td>\n",
       "    </tr>\n",
       "    <tr>\n",
       "      <th>4</th>\n",
       "      <td>440</td>\n",
       "      <td>1</td>\n",
       "      <td>0.0</td>\n",
       "      <td>1.0</td>\n",
       "      <td>44</td>\n",
       "      <td>Botafogo</td>\n",
       "      <td>515000</td>\n",
       "      <td>11704.55</td>\n",
       "    </tr>\n",
       "    <tr>\n",
       "      <th>5</th>\n",
       "      <td>917</td>\n",
       "      <td>1</td>\n",
       "      <td>1.0</td>\n",
       "      <td>1.0</td>\n",
       "      <td>60</td>\n",
       "      <td>Botafogo</td>\n",
       "      <td>630000</td>\n",
       "      <td>10500.00</td>\n",
       "    </tr>\n",
       "    <tr>\n",
       "      <th>6</th>\n",
       "      <td>850</td>\n",
       "      <td>1</td>\n",
       "      <td>1.0</td>\n",
       "      <td>1.0</td>\n",
       "      <td>65</td>\n",
       "      <td>Botafogo</td>\n",
       "      <td>740000</td>\n",
       "      <td>11384.62</td>\n",
       "    </tr>\n",
       "    <tr>\n",
       "      <th>7</th>\n",
       "      <td>350</td>\n",
       "      <td>1</td>\n",
       "      <td>1.0</td>\n",
       "      <td>1.0</td>\n",
       "      <td>43</td>\n",
       "      <td>Botafogo</td>\n",
       "      <td>570000</td>\n",
       "      <td>13255.81</td>\n",
       "    </tr>\n",
       "    <tr>\n",
       "      <th>8</th>\n",
       "      <td>440</td>\n",
       "      <td>1</td>\n",
       "      <td>1.0</td>\n",
       "      <td>1.0</td>\n",
       "      <td>26</td>\n",
       "      <td>Botafogo</td>\n",
       "      <td>430000</td>\n",
       "      <td>16538.46</td>\n",
       "    </tr>\n",
       "    <tr>\n",
       "      <th>9</th>\n",
       "      <td>510</td>\n",
       "      <td>1</td>\n",
       "      <td>1.0</td>\n",
       "      <td>1.0</td>\n",
       "      <td>42</td>\n",
       "      <td>Botafogo</td>\n",
       "      <td>500000</td>\n",
       "      <td>11904.76</td>\n",
       "    </tr>\n",
       "  </tbody>\n",
       "</table>\n",
       "</div>"
      ],
      "text/plain": [
       "   condominio  quartos  suites  vagas  area    bairro   preco       pm2\n",
       "0         350        1     0.0    1.0    21  Botafogo  340000  16190.48\n",
       "1         800        1     0.0    1.0    64  Botafogo  770000  12031.25\n",
       "2         674        1     0.0    1.0    61  Botafogo  600000   9836.07\n",
       "3         700        1     1.0    1.0    70  Botafogo  700000  10000.00\n",
       "4         440        1     0.0    1.0    44  Botafogo  515000  11704.55\n",
       "5         917        1     1.0    1.0    60  Botafogo  630000  10500.00\n",
       "6         850        1     1.0    1.0    65  Botafogo  740000  11384.62\n",
       "7         350        1     1.0    1.0    43  Botafogo  570000  13255.81\n",
       "8         440        1     1.0    1.0    26  Botafogo  430000  16538.46\n",
       "9         510        1     1.0    1.0    42  Botafogo  500000  11904.76"
      ]
     },
     "execution_count": 67,
     "metadata": {},
     "output_type": "execute_result"
    }
   ],
   "source": [
    "data[0:10]"
   ]
  },
  {
   "cell_type": "code",
   "execution_count": 68,
   "id": "b36eac9b",
   "metadata": {},
   "outputs": [
    {
     "data": {
      "text/plain": [
       "513    1.0\n",
       "514    1.0\n",
       "515    1.0\n",
       "516    1.0\n",
       "517    2.0\n",
       "Name: vagas, dtype: float64"
      ]
     },
     "execution_count": 68,
     "metadata": {},
     "output_type": "execute_result"
    }
   ],
   "source": [
    "data[513:518]['vagas']"
   ]
  },
  {
   "cell_type": "code",
   "execution_count": 72,
   "id": "5bd074df",
   "metadata": {},
   "outputs": [
    {
     "data": {
      "text/plain": [
       "1990    1.0\n",
       "1992    1.0\n",
       "1994    1.0\n",
       "1996    1.0\n",
       "Name: vagas, dtype: float64"
      ]
     },
     "execution_count": 72,
     "metadata": {},
     "output_type": "execute_result"
    }
   ],
   "source": [
    "data[1990::2]['vagas']"
   ]
  },
  {
   "cell_type": "code",
   "execution_count": 73,
   "id": "9636a996",
   "metadata": {},
   "outputs": [
    {
     "data": {
      "text/html": [
       "<div>\n",
       "<style scoped>\n",
       "    .dataframe tbody tr th:only-of-type {\n",
       "        vertical-align: middle;\n",
       "    }\n",
       "\n",
       "    .dataframe tbody tr th {\n",
       "        vertical-align: top;\n",
       "    }\n",
       "\n",
       "    .dataframe thead th {\n",
       "        text-align: right;\n",
       "    }\n",
       "</style>\n",
       "<table border=\"1\" class=\"dataframe\">\n",
       "  <thead>\n",
       "    <tr style=\"text-align: right;\">\n",
       "      <th></th>\n",
       "      <th>condominio</th>\n",
       "    </tr>\n",
       "  </thead>\n",
       "  <tbody>\n",
       "    <tr>\n",
       "      <th>7</th>\n",
       "      <td>350</td>\n",
       "    </tr>\n",
       "    <tr>\n",
       "      <th>8</th>\n",
       "      <td>440</td>\n",
       "    </tr>\n",
       "    <tr>\n",
       "      <th>9</th>\n",
       "      <td>510</td>\n",
       "    </tr>\n",
       "    <tr>\n",
       "      <th>10</th>\n",
       "      <td>200</td>\n",
       "    </tr>\n",
       "    <tr>\n",
       "      <th>11</th>\n",
       "      <td>552</td>\n",
       "    </tr>\n",
       "    <tr>\n",
       "      <th>12</th>\n",
       "      <td>495</td>\n",
       "    </tr>\n",
       "    <tr>\n",
       "      <th>13</th>\n",
       "      <td>340</td>\n",
       "    </tr>\n",
       "    <tr>\n",
       "      <th>14</th>\n",
       "      <td>800</td>\n",
       "    </tr>\n",
       "    <tr>\n",
       "      <th>15</th>\n",
       "      <td>530</td>\n",
       "    </tr>\n",
       "  </tbody>\n",
       "</table>\n",
       "</div>"
      ],
      "text/plain": [
       "    condominio\n",
       "7          350\n",
       "8          440\n",
       "9          510\n",
       "10         200\n",
       "11         552\n",
       "12         495\n",
       "13         340\n",
       "14         800\n",
       "15         530"
      ]
     },
     "execution_count": 73,
     "metadata": {},
     "output_type": "execute_result"
    }
   ],
   "source": [
    "data.loc[7:15,['condominio']]"
   ]
  },
  {
   "cell_type": "code",
   "execution_count": 74,
   "id": "efe7b57e",
   "metadata": {},
   "outputs": [
    {
     "data": {
      "text/html": [
       "<div>\n",
       "<style scoped>\n",
       "    .dataframe tbody tr th:only-of-type {\n",
       "        vertical-align: middle;\n",
       "    }\n",
       "\n",
       "    .dataframe tbody tr th {\n",
       "        vertical-align: top;\n",
       "    }\n",
       "\n",
       "    .dataframe thead th {\n",
       "        text-align: right;\n",
       "    }\n",
       "</style>\n",
       "<table border=\"1\" class=\"dataframe\">\n",
       "  <thead>\n",
       "    <tr style=\"text-align: right;\">\n",
       "      <th></th>\n",
       "      <th>condominio</th>\n",
       "      <th>preco</th>\n",
       "    </tr>\n",
       "  </thead>\n",
       "  <tbody>\n",
       "    <tr>\n",
       "      <th>7</th>\n",
       "      <td>350</td>\n",
       "      <td>570000</td>\n",
       "    </tr>\n",
       "    <tr>\n",
       "      <th>8</th>\n",
       "      <td>440</td>\n",
       "      <td>430000</td>\n",
       "    </tr>\n",
       "    <tr>\n",
       "      <th>9</th>\n",
       "      <td>510</td>\n",
       "      <td>500000</td>\n",
       "    </tr>\n",
       "    <tr>\n",
       "      <th>10</th>\n",
       "      <td>200</td>\n",
       "      <td>500000</td>\n",
       "    </tr>\n",
       "    <tr>\n",
       "      <th>11</th>\n",
       "      <td>552</td>\n",
       "      <td>790000</td>\n",
       "    </tr>\n",
       "    <tr>\n",
       "      <th>12</th>\n",
       "      <td>495</td>\n",
       "      <td>515000</td>\n",
       "    </tr>\n",
       "    <tr>\n",
       "      <th>13</th>\n",
       "      <td>340</td>\n",
       "      <td>410000</td>\n",
       "    </tr>\n",
       "    <tr>\n",
       "      <th>14</th>\n",
       "      <td>800</td>\n",
       "      <td>625000</td>\n",
       "    </tr>\n",
       "    <tr>\n",
       "      <th>15</th>\n",
       "      <td>530</td>\n",
       "      <td>360000</td>\n",
       "    </tr>\n",
       "  </tbody>\n",
       "</table>\n",
       "</div>"
      ],
      "text/plain": [
       "    condominio   preco\n",
       "7          350  570000\n",
       "8          440  430000\n",
       "9          510  500000\n",
       "10         200  500000\n",
       "11         552  790000\n",
       "12         495  515000\n",
       "13         340  410000\n",
       "14         800  625000\n",
       "15         530  360000"
      ]
     },
     "execution_count": 74,
     "metadata": {},
     "output_type": "execute_result"
    }
   ],
   "source": [
    "data.loc[7:15,['condominio','preco']]"
   ]
  },
  {
   "cell_type": "code",
   "execution_count": 76,
   "id": "dc105096",
   "metadata": {},
   "outputs": [
    {
     "data": {
      "text/html": [
       "<div>\n",
       "<style scoped>\n",
       "    .dataframe tbody tr th:only-of-type {\n",
       "        vertical-align: middle;\n",
       "    }\n",
       "\n",
       "    .dataframe tbody tr th {\n",
       "        vertical-align: top;\n",
       "    }\n",
       "\n",
       "    .dataframe thead th {\n",
       "        text-align: right;\n",
       "    }\n",
       "</style>\n",
       "<table border=\"1\" class=\"dataframe\">\n",
       "  <thead>\n",
       "    <tr style=\"text-align: right;\">\n",
       "      <th></th>\n",
       "      <th>condominio</th>\n",
       "      <th>quartos</th>\n",
       "      <th>suites</th>\n",
       "      <th>vagas</th>\n",
       "      <th>area</th>\n",
       "      <th>bairro</th>\n",
       "      <th>preco</th>\n",
       "      <th>pm2</th>\n",
       "    </tr>\n",
       "  </thead>\n",
       "  <tbody>\n",
       "    <tr>\n",
       "      <th>2</th>\n",
       "      <td>674</td>\n",
       "      <td>1</td>\n",
       "      <td>0.0</td>\n",
       "      <td>1.0</td>\n",
       "      <td>61</td>\n",
       "      <td>Botafogo</td>\n",
       "      <td>600000</td>\n",
       "      <td>9836.07</td>\n",
       "    </tr>\n",
       "    <tr>\n",
       "      <th>4</th>\n",
       "      <td>440</td>\n",
       "      <td>1</td>\n",
       "      <td>0.0</td>\n",
       "      <td>1.0</td>\n",
       "      <td>44</td>\n",
       "      <td>Botafogo</td>\n",
       "      <td>515000</td>\n",
       "      <td>11704.55</td>\n",
       "    </tr>\n",
       "    <tr>\n",
       "      <th>8</th>\n",
       "      <td>440</td>\n",
       "      <td>1</td>\n",
       "      <td>1.0</td>\n",
       "      <td>1.0</td>\n",
       "      <td>26</td>\n",
       "      <td>Botafogo</td>\n",
       "      <td>430000</td>\n",
       "      <td>16538.46</td>\n",
       "    </tr>\n",
       "    <tr>\n",
       "      <th>15</th>\n",
       "      <td>530</td>\n",
       "      <td>1</td>\n",
       "      <td>0.0</td>\n",
       "      <td>1.0</td>\n",
       "      <td>40</td>\n",
       "      <td>Botafogo</td>\n",
       "      <td>360000</td>\n",
       "      <td>9000.00</td>\n",
       "    </tr>\n",
       "  </tbody>\n",
       "</table>\n",
       "</div>"
      ],
      "text/plain": [
       "    condominio  quartos  suites  vagas  area    bairro   preco       pm2\n",
       "2          674        1     0.0    1.0    61  Botafogo  600000   9836.07\n",
       "4          440        1     0.0    1.0    44  Botafogo  515000  11704.55\n",
       "8          440        1     1.0    1.0    26  Botafogo  430000  16538.46\n",
       "15         530        1     0.0    1.0    40  Botafogo  360000   9000.00"
      ]
     },
     "execution_count": 76,
     "metadata": {},
     "output_type": "execute_result"
    }
   ],
   "source": [
    "data.loc[[2,4,8,15],:]"
   ]
  },
  {
   "cell_type": "code",
   "execution_count": 78,
   "id": "76b42e9f",
   "metadata": {},
   "outputs": [
    {
     "data": {
      "text/html": [
       "<div>\n",
       "<style scoped>\n",
       "    .dataframe tbody tr th:only-of-type {\n",
       "        vertical-align: middle;\n",
       "    }\n",
       "\n",
       "    .dataframe tbody tr th {\n",
       "        vertical-align: top;\n",
       "    }\n",
       "\n",
       "    .dataframe thead th {\n",
       "        text-align: right;\n",
       "    }\n",
       "</style>\n",
       "<table border=\"1\" class=\"dataframe\">\n",
       "  <thead>\n",
       "    <tr style=\"text-align: right;\">\n",
       "      <th></th>\n",
       "      <th>condominio</th>\n",
       "      <th>quartos</th>\n",
       "      <th>suites</th>\n",
       "      <th>vagas</th>\n",
       "      <th>area</th>\n",
       "      <th>bairro</th>\n",
       "      <th>preco</th>\n",
       "      <th>pm2</th>\n",
       "    </tr>\n",
       "  </thead>\n",
       "  <tbody>\n",
       "    <tr>\n",
       "      <th>1</th>\n",
       "      <td>800</td>\n",
       "      <td>1</td>\n",
       "      <td>0.0</td>\n",
       "      <td>1.0</td>\n",
       "      <td>64</td>\n",
       "      <td>Botafogo</td>\n",
       "      <td>770000</td>\n",
       "      <td>12031.25</td>\n",
       "    </tr>\n",
       "    <tr>\n",
       "      <th>3</th>\n",
       "      <td>700</td>\n",
       "      <td>1</td>\n",
       "      <td>1.0</td>\n",
       "      <td>1.0</td>\n",
       "      <td>70</td>\n",
       "      <td>Botafogo</td>\n",
       "      <td>700000</td>\n",
       "      <td>10000.00</td>\n",
       "    </tr>\n",
       "    <tr>\n",
       "      <th>5</th>\n",
       "      <td>917</td>\n",
       "      <td>1</td>\n",
       "      <td>1.0</td>\n",
       "      <td>1.0</td>\n",
       "      <td>60</td>\n",
       "      <td>Botafogo</td>\n",
       "      <td>630000</td>\n",
       "      <td>10500.00</td>\n",
       "    </tr>\n",
       "    <tr>\n",
       "      <th>6</th>\n",
       "      <td>850</td>\n",
       "      <td>1</td>\n",
       "      <td>1.0</td>\n",
       "      <td>1.0</td>\n",
       "      <td>65</td>\n",
       "      <td>Botafogo</td>\n",
       "      <td>740000</td>\n",
       "      <td>11384.62</td>\n",
       "    </tr>\n",
       "    <tr>\n",
       "      <th>11</th>\n",
       "      <td>552</td>\n",
       "      <td>1</td>\n",
       "      <td>1.0</td>\n",
       "      <td>1.0</td>\n",
       "      <td>67</td>\n",
       "      <td>Botafogo</td>\n",
       "      <td>790000</td>\n",
       "      <td>11791.04</td>\n",
       "    </tr>\n",
       "    <tr>\n",
       "      <th>...</th>\n",
       "      <td>...</td>\n",
       "      <td>...</td>\n",
       "      <td>...</td>\n",
       "      <td>...</td>\n",
       "      <td>...</td>\n",
       "      <td>...</td>\n",
       "      <td>...</td>\n",
       "      <td>...</td>\n",
       "    </tr>\n",
       "    <tr>\n",
       "      <th>1987</th>\n",
       "      <td>880</td>\n",
       "      <td>3</td>\n",
       "      <td>1.0</td>\n",
       "      <td>1.0</td>\n",
       "      <td>100</td>\n",
       "      <td>Tijuca</td>\n",
       "      <td>800000</td>\n",
       "      <td>8000.00</td>\n",
       "    </tr>\n",
       "    <tr>\n",
       "      <th>1992</th>\n",
       "      <td>1080</td>\n",
       "      <td>3</td>\n",
       "      <td>1.0</td>\n",
       "      <td>1.0</td>\n",
       "      <td>80</td>\n",
       "      <td>Tijuca</td>\n",
       "      <td>680000</td>\n",
       "      <td>8500.00</td>\n",
       "    </tr>\n",
       "    <tr>\n",
       "      <th>1993</th>\n",
       "      <td>750</td>\n",
       "      <td>3</td>\n",
       "      <td>0.0</td>\n",
       "      <td>1.0</td>\n",
       "      <td>82</td>\n",
       "      <td>Tijuca</td>\n",
       "      <td>650000</td>\n",
       "      <td>7926.83</td>\n",
       "    </tr>\n",
       "    <tr>\n",
       "      <th>1994</th>\n",
       "      <td>700</td>\n",
       "      <td>3</td>\n",
       "      <td>1.0</td>\n",
       "      <td>1.0</td>\n",
       "      <td>100</td>\n",
       "      <td>Tijuca</td>\n",
       "      <td>629900</td>\n",
       "      <td>6299.00</td>\n",
       "    </tr>\n",
       "    <tr>\n",
       "      <th>1995</th>\n",
       "      <td>1850</td>\n",
       "      <td>3</td>\n",
       "      <td>1.0</td>\n",
       "      <td>2.0</td>\n",
       "      <td>166</td>\n",
       "      <td>Tijuca</td>\n",
       "      <td>1600000</td>\n",
       "      <td>9638.55</td>\n",
       "    </tr>\n",
       "  </tbody>\n",
       "</table>\n",
       "<p>1411 rows × 8 columns</p>\n",
       "</div>"
      ],
      "text/plain": [
       "      condominio  quartos  suites  vagas  area    bairro    preco       pm2\n",
       "1            800        1     0.0    1.0    64  Botafogo   770000  12031.25\n",
       "3            700        1     1.0    1.0    70  Botafogo   700000  10000.00\n",
       "5            917        1     1.0    1.0    60  Botafogo   630000  10500.00\n",
       "6            850        1     1.0    1.0    65  Botafogo   740000  11384.62\n",
       "11           552        1     1.0    1.0    67  Botafogo   790000  11791.04\n",
       "...          ...      ...     ...    ...   ...       ...      ...       ...\n",
       "1987         880        3     1.0    1.0   100    Tijuca   800000   8000.00\n",
       "1992        1080        3     1.0    1.0    80    Tijuca   680000   8500.00\n",
       "1993         750        3     0.0    1.0    82    Tijuca   650000   7926.83\n",
       "1994         700        3     1.0    1.0   100    Tijuca   629900   6299.00\n",
       "1995        1850        3     1.0    2.0   166    Tijuca  1600000   9638.55\n",
       "\n",
       "[1411 rows x 8 columns]"
      ]
     },
     "execution_count": 78,
     "metadata": {},
     "output_type": "execute_result"
    }
   ],
   "source": [
    "data.loc[(data['preco']) > 600000]"
   ]
  },
  {
   "cell_type": "code",
   "execution_count": 83,
   "id": "ed7b88a5",
   "metadata": {},
   "outputs": [
    {
     "data": {
      "text/plain": [
       "Copacabana    3\n",
       "Ipanema       3\n",
       "Leblon        2\n",
       "Name: bairro, dtype: int64"
      ]
     },
     "execution_count": 83,
     "metadata": {},
     "output_type": "execute_result"
    }
   ],
   "source": [
    "data.loc[(data['vagas'] >= 4)]['bairro'].value_counts()"
   ]
  },
  {
   "cell_type": "code",
   "execution_count": 84,
   "id": "e0b6c1a3",
   "metadata": {},
   "outputs": [
    {
     "data": {
      "text/plain": [
       "0    350\n",
       "1    800\n",
       "2    674\n",
       "3    700\n",
       "4    440\n",
       "5    917\n",
       "6    850\n",
       "7    350\n",
       "8    440\n",
       "9    510\n",
       "Name: condominio, dtype: int64"
      ]
     },
     "execution_count": 84,
     "metadata": {},
     "output_type": "execute_result"
    }
   ],
   "source": [
    "data.iloc[:10,0]"
   ]
  },
  {
   "cell_type": "code",
   "execution_count": 85,
   "id": "872489a7",
   "metadata": {},
   "outputs": [
    {
     "data": {
      "text/plain": [
       "2     1\n",
       "4     1\n",
       "5     1\n",
       "15    1\n",
       "Name: quartos, dtype: int64"
      ]
     },
     "execution_count": 85,
     "metadata": {},
     "output_type": "execute_result"
    }
   ],
   "source": [
    "data.iloc[[2,4,5,15],1]"
   ]
  },
  {
   "cell_type": "code",
   "execution_count": 86,
   "id": "96e0662a",
   "metadata": {},
   "outputs": [
    {
     "data": {
      "text/html": [
       "<div>\n",
       "<style scoped>\n",
       "    .dataframe tbody tr th:only-of-type {\n",
       "        vertical-align: middle;\n",
       "    }\n",
       "\n",
       "    .dataframe tbody tr th {\n",
       "        vertical-align: top;\n",
       "    }\n",
       "\n",
       "    .dataframe thead th {\n",
       "        text-align: right;\n",
       "    }\n",
       "</style>\n",
       "<table border=\"1\" class=\"dataframe\">\n",
       "  <thead>\n",
       "    <tr style=\"text-align: right;\">\n",
       "      <th></th>\n",
       "      <th>suites</th>\n",
       "      <th>area</th>\n",
       "      <th>pm2</th>\n",
       "    </tr>\n",
       "  </thead>\n",
       "  <tbody>\n",
       "    <tr>\n",
       "      <th>0</th>\n",
       "      <td>0.0</td>\n",
       "      <td>21</td>\n",
       "      <td>16190.48</td>\n",
       "    </tr>\n",
       "    <tr>\n",
       "      <th>1</th>\n",
       "      <td>0.0</td>\n",
       "      <td>64</td>\n",
       "      <td>12031.25</td>\n",
       "    </tr>\n",
       "    <tr>\n",
       "      <th>2</th>\n",
       "      <td>0.0</td>\n",
       "      <td>61</td>\n",
       "      <td>9836.07</td>\n",
       "    </tr>\n",
       "    <tr>\n",
       "      <th>3</th>\n",
       "      <td>1.0</td>\n",
       "      <td>70</td>\n",
       "      <td>10000.00</td>\n",
       "    </tr>\n",
       "    <tr>\n",
       "      <th>4</th>\n",
       "      <td>0.0</td>\n",
       "      <td>44</td>\n",
       "      <td>11704.55</td>\n",
       "    </tr>\n",
       "    <tr>\n",
       "      <th>...</th>\n",
       "      <td>...</td>\n",
       "      <td>...</td>\n",
       "      <td>...</td>\n",
       "    </tr>\n",
       "    <tr>\n",
       "      <th>1992</th>\n",
       "      <td>1.0</td>\n",
       "      <td>80</td>\n",
       "      <td>8500.00</td>\n",
       "    </tr>\n",
       "    <tr>\n",
       "      <th>1993</th>\n",
       "      <td>0.0</td>\n",
       "      <td>82</td>\n",
       "      <td>7926.83</td>\n",
       "    </tr>\n",
       "    <tr>\n",
       "      <th>1994</th>\n",
       "      <td>1.0</td>\n",
       "      <td>100</td>\n",
       "      <td>6299.00</td>\n",
       "    </tr>\n",
       "    <tr>\n",
       "      <th>1995</th>\n",
       "      <td>1.0</td>\n",
       "      <td>166</td>\n",
       "      <td>9638.55</td>\n",
       "    </tr>\n",
       "    <tr>\n",
       "      <th>1996</th>\n",
       "      <td>1.0</td>\n",
       "      <td>107</td>\n",
       "      <td>5046.73</td>\n",
       "    </tr>\n",
       "  </tbody>\n",
       "</table>\n",
       "<p>1997 rows × 3 columns</p>\n",
       "</div>"
      ],
      "text/plain": [
       "      suites  area       pm2\n",
       "0        0.0    21  16190.48\n",
       "1        0.0    64  12031.25\n",
       "2        0.0    61   9836.07\n",
       "3        1.0    70  10000.00\n",
       "4        0.0    44  11704.55\n",
       "...      ...   ...       ...\n",
       "1992     1.0    80   8500.00\n",
       "1993     0.0    82   7926.83\n",
       "1994     1.0   100   6299.00\n",
       "1995     1.0   166   9638.55\n",
       "1996     1.0   107   5046.73\n",
       "\n",
       "[1997 rows x 3 columns]"
      ]
     },
     "execution_count": 86,
     "metadata": {},
     "output_type": "execute_result"
    }
   ],
   "source": [
    "data.iloc[:,[2,4,7]]"
   ]
  },
  {
   "cell_type": "code",
   "execution_count": 87,
   "id": "18470f8e",
   "metadata": {},
   "outputs": [
    {
     "data": {
      "text/plain": [
       "Index(['suites', 'area', 'pm2'], dtype='object')"
      ]
     },
     "execution_count": 87,
     "metadata": {},
     "output_type": "execute_result"
    }
   ],
   "source": [
    "data.iloc[:,[2,4,7]].columns"
   ]
  },
  {
   "cell_type": "code",
   "execution_count": 92,
   "id": "4bd8ea67",
   "metadata": {},
   "outputs": [],
   "source": [
    "mat1 = pd.DataFrame([random.randint(0,10) for i in range(0,3)])"
   ]
  },
  {
   "cell_type": "code",
   "execution_count": 94,
   "id": "315745cd",
   "metadata": {},
   "outputs": [
    {
     "data": {
      "text/html": [
       "<div>\n",
       "<style scoped>\n",
       "    .dataframe tbody tr th:only-of-type {\n",
       "        vertical-align: middle;\n",
       "    }\n",
       "\n",
       "    .dataframe tbody tr th {\n",
       "        vertical-align: top;\n",
       "    }\n",
       "\n",
       "    .dataframe thead th {\n",
       "        text-align: right;\n",
       "    }\n",
       "</style>\n",
       "<table border=\"1\" class=\"dataframe\">\n",
       "  <thead>\n",
       "    <tr style=\"text-align: right;\">\n",
       "      <th></th>\n",
       "      <th>0</th>\n",
       "    </tr>\n",
       "  </thead>\n",
       "  <tbody>\n",
       "    <tr>\n",
       "      <th>0</th>\n",
       "      <td>4</td>\n",
       "    </tr>\n",
       "    <tr>\n",
       "      <th>1</th>\n",
       "      <td>8</td>\n",
       "    </tr>\n",
       "    <tr>\n",
       "      <th>2</th>\n",
       "      <td>10</td>\n",
       "    </tr>\n",
       "  </tbody>\n",
       "</table>\n",
       "</div>"
      ],
      "text/plain": [
       "    0\n",
       "0   4\n",
       "1   8\n",
       "2  10"
      ]
     },
     "execution_count": 94,
     "metadata": {},
     "output_type": "execute_result"
    }
   ],
   "source": [
    "mat1"
   ]
  },
  {
   "cell_type": "code",
   "execution_count": 95,
   "id": "932cdd95",
   "metadata": {},
   "outputs": [],
   "source": [
    "mat2 = pd.DataFrame([random.randint(0,10) for i in range(0,3)])"
   ]
  },
  {
   "cell_type": "code",
   "execution_count": 96,
   "id": "6188e243",
   "metadata": {},
   "outputs": [
    {
     "data": {
      "text/html": [
       "<div>\n",
       "<style scoped>\n",
       "    .dataframe tbody tr th:only-of-type {\n",
       "        vertical-align: middle;\n",
       "    }\n",
       "\n",
       "    .dataframe tbody tr th {\n",
       "        vertical-align: top;\n",
       "    }\n",
       "\n",
       "    .dataframe thead th {\n",
       "        text-align: right;\n",
       "    }\n",
       "</style>\n",
       "<table border=\"1\" class=\"dataframe\">\n",
       "  <thead>\n",
       "    <tr style=\"text-align: right;\">\n",
       "      <th></th>\n",
       "      <th>0</th>\n",
       "    </tr>\n",
       "  </thead>\n",
       "  <tbody>\n",
       "    <tr>\n",
       "      <th>0</th>\n",
       "      <td>8</td>\n",
       "    </tr>\n",
       "    <tr>\n",
       "      <th>1</th>\n",
       "      <td>2</td>\n",
       "    </tr>\n",
       "    <tr>\n",
       "      <th>2</th>\n",
       "      <td>4</td>\n",
       "    </tr>\n",
       "  </tbody>\n",
       "</table>\n",
       "</div>"
      ],
      "text/plain": [
       "   0\n",
       "0  8\n",
       "1  2\n",
       "2  4"
      ]
     },
     "execution_count": 96,
     "metadata": {},
     "output_type": "execute_result"
    }
   ],
   "source": [
    "mat2"
   ]
  },
  {
   "cell_type": "code",
   "execution_count": 97,
   "id": "28806fc5",
   "metadata": {},
   "outputs": [
    {
     "data": {
      "text/plain": [
       "(3, 1)"
      ]
     },
     "execution_count": 97,
     "metadata": {},
     "output_type": "execute_result"
    }
   ],
   "source": [
    "mat1.shape\n"
   ]
  },
  {
   "cell_type": "code",
   "execution_count": 98,
   "id": "331ab1d7",
   "metadata": {},
   "outputs": [
    {
     "data": {
      "text/html": [
       "<div>\n",
       "<style scoped>\n",
       "    .dataframe tbody tr th:only-of-type {\n",
       "        vertical-align: middle;\n",
       "    }\n",
       "\n",
       "    .dataframe tbody tr th {\n",
       "        vertical-align: top;\n",
       "    }\n",
       "\n",
       "    .dataframe thead th {\n",
       "        text-align: right;\n",
       "    }\n",
       "</style>\n",
       "<table border=\"1\" class=\"dataframe\">\n",
       "  <thead>\n",
       "    <tr style=\"text-align: right;\">\n",
       "      <th></th>\n",
       "      <th>0</th>\n",
       "      <th>1</th>\n",
       "      <th>2</th>\n",
       "    </tr>\n",
       "  </thead>\n",
       "  <tbody>\n",
       "    <tr>\n",
       "      <th>0</th>\n",
       "      <td>4</td>\n",
       "      <td>8</td>\n",
       "      <td>10</td>\n",
       "    </tr>\n",
       "  </tbody>\n",
       "</table>\n",
       "</div>"
      ],
      "text/plain": [
       "   0  1   2\n",
       "0  4  8  10"
      ]
     },
     "execution_count": 98,
     "metadata": {},
     "output_type": "execute_result"
    }
   ],
   "source": [
    "mat1.T"
   ]
  },
  {
   "cell_type": "code",
   "execution_count": 99,
   "id": "165cfe0a",
   "metadata": {},
   "outputs": [
    {
     "data": {
      "text/html": [
       "<div>\n",
       "<style scoped>\n",
       "    .dataframe tbody tr th:only-of-type {\n",
       "        vertical-align: middle;\n",
       "    }\n",
       "\n",
       "    .dataframe tbody tr th {\n",
       "        vertical-align: top;\n",
       "    }\n",
       "\n",
       "    .dataframe thead th {\n",
       "        text-align: right;\n",
       "    }\n",
       "</style>\n",
       "<table border=\"1\" class=\"dataframe\">\n",
       "  <thead>\n",
       "    <tr style=\"text-align: right;\">\n",
       "      <th></th>\n",
       "      <th>0</th>\n",
       "    </tr>\n",
       "  </thead>\n",
       "  <tbody>\n",
       "    <tr>\n",
       "      <th>0</th>\n",
       "      <td>4</td>\n",
       "    </tr>\n",
       "    <tr>\n",
       "      <th>1</th>\n",
       "      <td>8</td>\n",
       "    </tr>\n",
       "    <tr>\n",
       "      <th>2</th>\n",
       "      <td>10</td>\n",
       "    </tr>\n",
       "  </tbody>\n",
       "</table>\n",
       "</div>"
      ],
      "text/plain": [
       "    0\n",
       "0   4\n",
       "1   8\n",
       "2  10"
      ]
     },
     "execution_count": 99,
     "metadata": {},
     "output_type": "execute_result"
    }
   ],
   "source": [
    "mat1"
   ]
  },
  {
   "cell_type": "code",
   "execution_count": 101,
   "id": "f9140d13",
   "metadata": {},
   "outputs": [
    {
     "data": {
      "text/html": [
       "<div>\n",
       "<style scoped>\n",
       "    .dataframe tbody tr th:only-of-type {\n",
       "        vertical-align: middle;\n",
       "    }\n",
       "\n",
       "    .dataframe tbody tr th {\n",
       "        vertical-align: top;\n",
       "    }\n",
       "\n",
       "    .dataframe thead th {\n",
       "        text-align: right;\n",
       "    }\n",
       "</style>\n",
       "<table border=\"1\" class=\"dataframe\">\n",
       "  <thead>\n",
       "    <tr style=\"text-align: right;\">\n",
       "      <th></th>\n",
       "      <th>0</th>\n",
       "      <th>1</th>\n",
       "      <th>2</th>\n",
       "    </tr>\n",
       "  </thead>\n",
       "  <tbody>\n",
       "    <tr>\n",
       "      <th>0</th>\n",
       "      <td>32</td>\n",
       "      <td>8</td>\n",
       "      <td>16</td>\n",
       "    </tr>\n",
       "    <tr>\n",
       "      <th>1</th>\n",
       "      <td>64</td>\n",
       "      <td>16</td>\n",
       "      <td>32</td>\n",
       "    </tr>\n",
       "    <tr>\n",
       "      <th>2</th>\n",
       "      <td>80</td>\n",
       "      <td>20</td>\n",
       "      <td>40</td>\n",
       "    </tr>\n",
       "  </tbody>\n",
       "</table>\n",
       "</div>"
      ],
      "text/plain": [
       "    0   1   2\n",
       "0  32   8  16\n",
       "1  64  16  32\n",
       "2  80  20  40"
      ]
     },
     "execution_count": 101,
     "metadata": {},
     "output_type": "execute_result"
    }
   ],
   "source": [
    "mat1.dot(mat2.T)"
   ]
  },
  {
   "cell_type": "code",
   "execution_count": 103,
   "id": "626bd2c9",
   "metadata": {},
   "outputs": [
    {
     "data": {
      "text/html": [
       "<div>\n",
       "<style scoped>\n",
       "    .dataframe tbody tr th:only-of-type {\n",
       "        vertical-align: middle;\n",
       "    }\n",
       "\n",
       "    .dataframe tbody tr th {\n",
       "        vertical-align: top;\n",
       "    }\n",
       "\n",
       "    .dataframe thead th {\n",
       "        text-align: right;\n",
       "    }\n",
       "</style>\n",
       "<table border=\"1\" class=\"dataframe\">\n",
       "  <thead>\n",
       "    <tr style=\"text-align: right;\">\n",
       "      <th></th>\n",
       "      <th>0</th>\n",
       "    </tr>\n",
       "  </thead>\n",
       "  <tbody>\n",
       "    <tr>\n",
       "      <th>0</th>\n",
       "      <td>88</td>\n",
       "    </tr>\n",
       "  </tbody>\n",
       "</table>\n",
       "</div>"
      ],
      "text/plain": [
       "    0\n",
       "0  88"
      ]
     },
     "execution_count": 103,
     "metadata": {},
     "output_type": "execute_result"
    }
   ],
   "source": [
    "pd.DataFrame.dot(mat1.T, mat2)"
   ]
  },
  {
   "cell_type": "code",
   "execution_count": null,
   "id": "35a91040",
   "metadata": {},
   "outputs": [],
   "source": []
  }
 ],
 "metadata": {
  "kernelspec": {
   "display_name": "Python 3 (ipykernel)",
   "language": "python",
   "name": "python3"
  },
  "language_info": {
   "codemirror_mode": {
    "name": "ipython",
    "version": 3
   },
   "file_extension": ".py",
   "mimetype": "text/x-python",
   "name": "python",
   "nbconvert_exporter": "python",
   "pygments_lexer": "ipython3",
   "version": "3.8.10"
  }
 },
 "nbformat": 4,
 "nbformat_minor": 5
}
