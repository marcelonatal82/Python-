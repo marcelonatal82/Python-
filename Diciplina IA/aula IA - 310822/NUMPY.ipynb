{
 "cells": [
  {
   "cell_type": "markdown",
   "id": "514162cc",
   "metadata": {},
   "source": [
    "# Numpy\n"
   ]
  },
  {
   "cell_type": "markdown",
   "id": "1292a336",
   "metadata": {},
   "source": [
    "<ul>\n",
    "    <li>Gerar conjuntos de dados</li>\n",
    "     <li>Operações em conjuntos de dados</li>\n",
    "     <li>Slicing (fatiamento) de dados</li>\n",
    "    <li>Reshape</li>\n",
    "    <li>Matriz de Os (zeros) e 1s</li>\n",
    "    <li>Matriz identidade</li>\n",
    "    <li>Embaralhamento de dados</li>\n",
    "    <li>Dados em espaço linear</li>\n",
    "</ul>\n",
    "\n",
    "                "
   ]
  },
  {
   "cell_type": "code",
   "execution_count": 1,
   "id": "33857804",
   "metadata": {},
   "outputs": [],
   "source": [
    "import numpy as np"
   ]
  },
  {
   "cell_type": "code",
   "execution_count": 6,
   "id": "2001ca32",
   "metadata": {},
   "outputs": [],
   "source": [
    "a = np.array([10,20,30,40])"
   ]
  },
  {
   "cell_type": "code",
   "execution_count": 7,
   "id": "9cfa5178",
   "metadata": {},
   "outputs": [
    {
     "data": {
      "text/plain": [
       "array([10, 20, 30, 40])"
      ]
     },
     "execution_count": 7,
     "metadata": {},
     "output_type": "execute_result"
    }
   ],
   "source": [
    "a"
   ]
  },
  {
   "cell_type": "code",
   "execution_count": 9,
   "id": "fe07b967",
   "metadata": {},
   "outputs": [
    {
     "name": "stdout",
     "output_type": "stream",
     "text": [
      "[10 20 30 40]\n"
     ]
    }
   ],
   "source": [
    "print(a)"
   ]
  },
  {
   "cell_type": "code",
   "execution_count": 10,
   "id": "999c1ed4",
   "metadata": {},
   "outputs": [
    {
     "data": {
      "text/plain": [
       "numpy.ndarray"
      ]
     },
     "execution_count": 10,
     "metadata": {},
     "output_type": "execute_result"
    }
   ],
   "source": [
    "type(a)"
   ]
  },
  {
   "cell_type": "code",
   "execution_count": 11,
   "id": "9a0acafc",
   "metadata": {},
   "outputs": [
    {
     "data": {
      "text/plain": [
       "array([20, 40, 60, 80])"
      ]
     },
     "execution_count": 11,
     "metadata": {},
     "output_type": "execute_result"
    }
   ],
   "source": [
    "a * 2"
   ]
  },
  {
   "cell_type": "code",
   "execution_count": 13,
   "id": "fc2a5007",
   "metadata": {},
   "outputs": [
    {
     "data": {
      "text/plain": [
       "array([15, 25, 35, 45])"
      ]
     },
     "execution_count": 13,
     "metadata": {},
     "output_type": "execute_result"
    }
   ],
   "source": [
    "a + 5\n"
   ]
  },
  {
   "cell_type": "code",
   "execution_count": 14,
   "id": "9cda3279",
   "metadata": {},
   "outputs": [
    {
     "data": {
      "text/plain": [
       "array([ 100,  400,  900, 1600])"
      ]
     },
     "execution_count": 14,
     "metadata": {},
     "output_type": "execute_result"
    }
   ],
   "source": [
    "a ** 2"
   ]
  },
  {
   "cell_type": "code",
   "execution_count": 15,
   "id": "75483b72",
   "metadata": {},
   "outputs": [],
   "source": [
    "mat = np.array([[i for i in range(1,5)] for j in range(1,5)])"
   ]
  },
  {
   "cell_type": "code",
   "execution_count": 18,
   "id": "a23ab3a4",
   "metadata": {},
   "outputs": [],
   "source": [
    "mat = np.array([[1,2,3,4],[5,6,7,8],[9,10,11,12],[13,14,15,16]])"
   ]
  },
  {
   "cell_type": "code",
   "execution_count": 19,
   "id": "bfac81d8",
   "metadata": {},
   "outputs": [
    {
     "data": {
      "text/plain": [
       "array([[ 1,  2,  3,  4],\n",
       "       [ 5,  6,  7,  8],\n",
       "       [ 9, 10, 11, 12],\n",
       "       [13, 14, 15, 16]])"
      ]
     },
     "execution_count": 19,
     "metadata": {},
     "output_type": "execute_result"
    }
   ],
   "source": [
    "mat"
   ]
  },
  {
   "cell_type": "code",
   "execution_count": 22,
   "id": "bb024fe6",
   "metadata": {},
   "outputs": [],
   "source": [
    "mat = np.array([i for i in range(1,17)])"
   ]
  },
  {
   "cell_type": "code",
   "execution_count": 23,
   "id": "abac4a8b",
   "metadata": {},
   "outputs": [
    {
     "data": {
      "text/plain": [
       "array([ 1,  2,  3,  4,  5,  6,  7,  8,  9, 10, 11, 12, 13, 14, 15, 16])"
      ]
     },
     "execution_count": 23,
     "metadata": {},
     "output_type": "execute_result"
    }
   ],
   "source": [
    "mat"
   ]
  },
  {
   "cell_type": "code",
   "execution_count": 24,
   "id": "e59e9b0e",
   "metadata": {},
   "outputs": [],
   "source": [
    "mat = mat.reshape(4,4)"
   ]
  },
  {
   "cell_type": "code",
   "execution_count": 25,
   "id": "faf57881",
   "metadata": {},
   "outputs": [
    {
     "data": {
      "text/plain": [
       "array([[ 1,  2,  3,  4],\n",
       "       [ 5,  6,  7,  8],\n",
       "       [ 9, 10, 11, 12],\n",
       "       [13, 14, 15, 16]])"
      ]
     },
     "execution_count": 25,
     "metadata": {},
     "output_type": "execute_result"
    }
   ],
   "source": [
    "mat"
   ]
  },
  {
   "cell_type": "code",
   "execution_count": 26,
   "id": "74696f99",
   "metadata": {},
   "outputs": [
    {
     "data": {
      "text/plain": [
       "array([1, 2, 3, 4])"
      ]
     },
     "execution_count": 26,
     "metadata": {},
     "output_type": "execute_result"
    }
   ],
   "source": [
    "mat[0]"
   ]
  },
  {
   "cell_type": "code",
   "execution_count": 27,
   "id": "87cfac0f",
   "metadata": {},
   "outputs": [
    {
     "data": {
      "text/plain": [
       "1"
      ]
     },
     "execution_count": 27,
     "metadata": {},
     "output_type": "execute_result"
    }
   ],
   "source": [
    "mat[0][0]"
   ]
  },
  {
   "cell_type": "code",
   "execution_count": 28,
   "id": "1c923c18",
   "metadata": {},
   "outputs": [
    {
     "data": {
      "text/plain": [
       "7"
      ]
     },
     "execution_count": 28,
     "metadata": {},
     "output_type": "execute_result"
    }
   ],
   "source": [
    "mat[1][2]"
   ]
  },
  {
   "cell_type": "code",
   "execution_count": 29,
   "id": "f287b5b2",
   "metadata": {},
   "outputs": [
    {
     "data": {
      "text/plain": [
       "2"
      ]
     },
     "execution_count": 29,
     "metadata": {},
     "output_type": "execute_result"
    }
   ],
   "source": [
    "mat[0,1]"
   ]
  },
  {
   "cell_type": "code",
   "execution_count": 32,
   "id": "285e619d",
   "metadata": {},
   "outputs": [
    {
     "data": {
      "text/plain": [
       "array([5, 6, 7, 8])"
      ]
     },
     "execution_count": 32,
     "metadata": {},
     "output_type": "execute_result"
    }
   ],
   "source": [
    "mat[1:3][0]"
   ]
  },
  {
   "cell_type": "code",
   "execution_count": 33,
   "id": "4d3be7a7",
   "metadata": {},
   "outputs": [
    {
     "data": {
      "text/plain": [
       "array([[ 8],\n",
       "       [12],\n",
       "       [16]])"
      ]
     },
     "execution_count": 33,
     "metadata": {},
     "output_type": "execute_result"
    }
   ],
   "source": [
    "mat[1:,3:]"
   ]
  },
  {
   "cell_type": "code",
   "execution_count": 34,
   "id": "c86e235e",
   "metadata": {},
   "outputs": [
    {
     "data": {
      "text/plain": [
       "array([13, 14, 15, 16])"
      ]
     },
     "execution_count": 34,
     "metadata": {},
     "output_type": "execute_result"
    }
   ],
   "source": [
    "mat[-1]"
   ]
  },
  {
   "cell_type": "code",
   "execution_count": 36,
   "id": "ba4ebeed",
   "metadata": {},
   "outputs": [
    {
     "data": {
      "text/plain": [
       "array([[1, 2, 3, 4],\n",
       "       [5, 6, 7, 8]])"
      ]
     },
     "execution_count": 36,
     "metadata": {},
     "output_type": "execute_result"
    }
   ],
   "source": [
    "mat[:-2]"
   ]
  },
  {
   "cell_type": "code",
   "execution_count": 37,
   "id": "2d6d641a",
   "metadata": {},
   "outputs": [
    {
     "data": {
      "text/plain": [
       "array([[ 9, 10, 11, 12],\n",
       "       [13, 14, 15, 16]])"
      ]
     },
     "execution_count": 37,
     "metadata": {},
     "output_type": "execute_result"
    }
   ],
   "source": [
    "mat[-2:]"
   ]
  },
  {
   "cell_type": "code",
   "execution_count": 38,
   "id": "193518b4",
   "metadata": {},
   "outputs": [
    {
     "data": {
      "text/plain": [
       "array([ 2,  4,  6,  8, 10, 12, 14, 16])"
      ]
     },
     "execution_count": 38,
     "metadata": {},
     "output_type": "execute_result"
    }
   ],
   "source": [
    "mat[mat % 2== 0]"
   ]
  },
  {
   "cell_type": "code",
   "execution_count": null,
   "id": "fece7026",
   "metadata": {},
   "outputs": [],
   "source": []
  }
 ],
 "metadata": {
  "kernelspec": {
   "display_name": "Python 3 (ipykernel)",
   "language": "python",
   "name": "python3"
  },
  "language_info": {
   "codemirror_mode": {
    "name": "ipython",
    "version": 3
   },
   "file_extension": ".py",
   "mimetype": "text/x-python",
   "name": "python",
   "nbconvert_exporter": "python",
   "pygments_lexer": "ipython3",
   "version": "3.8.10"
  }
 },
 "nbformat": 4,
 "nbformat_minor": 5
}
