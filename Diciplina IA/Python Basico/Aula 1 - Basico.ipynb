{
 "cells": [
  {
   "cell_type": "markdown",
   "id": "c6bc7d5c",
   "metadata": {},
   "source": [
    "# Variáveis "
   ]
  },
  {
   "cell_type": "markdown",
   "id": "204de365",
   "metadata": {},
   "source": [
    "<img src=\"https://upload.wikimedia.org/wikipedia/commons/f/f8/Python_logo_and_wordmark.svg\" width=\"200px\"/>"
   ]
  },
  {
   "cell_type": "markdown",
   "id": "6b0b914f",
   "metadata": {},
   "source": [
    "<ul>\n",
    "<li>variaveis tipo real </li>\n",
    "<li>variaveis tipo string</li>\n",
    "</ul>"
   ]
  },
  {
   "cell_type": "markdown",
   "id": "9f501959",
   "metadata": {},
   "source": [
    "# Estrutura de condicional\n"
   ]
  },
  {
   "cell_type": "code",
   "execution_count": 5,
   "id": "df27cb12",
   "metadata": {},
   "outputs": [],
   "source": [
    "idade = 18"
   ]
  },
  {
   "cell_type": "code",
   "execution_count": 7,
   "id": "9a457815",
   "metadata": {},
   "outputs": [
    {
     "name": "stdout",
     "output_type": "stream",
     "text": [
      "Maior de 18.\n"
     ]
    }
   ],
   "source": [
    "if idade >= 18:\n",
    "    print(\"Maior de 18.\")\n",
    "elif idade < 25:\n",
    "    print(\"Menor de 25\")\n",
    "elif idade < 35:\n",
    "    print(\"Menor de 35\")\n",
    "else:\n",
    "    print(\"Maior de 25\")"
   ]
  },
  {
   "cell_type": "markdown",
   "id": "f4f8fdac",
   "metadata": {},
   "source": [
    "# Estruturas de Repetição\n"
   ]
  },
  {
   "cell_type": "code",
   "execution_count": 16,
   "id": "08884821",
   "metadata": {},
   "outputs": [
    {
     "name": "stdout",
     "output_type": "stream",
     "text": [
      "0, 1, 2, 3, 4, 5, 6, 7, 8, 9, "
     ]
    }
   ],
   "source": [
    "for i in range(10):\n",
    "    print(i, end=\", \")"
   ]
  },
  {
   "cell_type": "code",
   "execution_count": 18,
   "id": "160d2d4e",
   "metadata": {},
   "outputs": [
    {
     "name": "stdout",
     "output_type": "stream",
     "text": [
      "5 6 7 8 9 10 11 12 13 14 "
     ]
    }
   ],
   "source": [
    "for i in range(5, 15):\n",
    "    print(i, end=\" \")"
   ]
  },
  {
   "cell_type": "code",
   "execution_count": 19,
   "id": "92426681",
   "metadata": {},
   "outputs": [
    {
     "name": "stdout",
     "output_type": "stream",
     "text": [
      "10 12 14 16 18 20 22 24 26 28 30 32 34 36 38 "
     ]
    }
   ],
   "source": [
    "for i in range(10, 40, 2):\n",
    "    print(i, end=\" \")"
   ]
  },
  {
   "cell_type": "code",
   "execution_count": 20,
   "id": "924f81eb",
   "metadata": {},
   "outputs": [],
   "source": [
    "x = range(15)"
   ]
  },
  {
   "cell_type": "code",
   "execution_count": 21,
   "id": "262e308b",
   "metadata": {},
   "outputs": [
    {
     "data": {
      "text/plain": [
       "range"
      ]
     },
     "execution_count": 21,
     "metadata": {},
     "output_type": "execute_result"
    }
   ],
   "source": [
    "type(x)"
   ]
  },
  {
   "cell_type": "code",
   "execution_count": 22,
   "id": "77d47696",
   "metadata": {},
   "outputs": [
    {
     "name": "stdout",
     "output_type": "stream",
     "text": [
      "0 1 2 3 4 5 6 7 8 9 10 11 12 13 14 "
     ]
    }
   ],
   "source": [
    "for i in x :\n",
    "    print(i, end=\" \")"
   ]
  },
  {
   "cell_type": "markdown",
   "id": "57b4823a",
   "metadata": {},
   "source": [
    "# Listas\n",
    "\n"
   ]
  },
  {
   "cell_type": "code",
   "execution_count": 24,
   "id": "c17b46a3",
   "metadata": {},
   "outputs": [],
   "source": [
    "frutas  = list()"
   ]
  },
  {
   "cell_type": "code",
   "execution_count": 25,
   "id": "a79428b9",
   "metadata": {},
   "outputs": [
    {
     "data": {
      "text/plain": [
       "list"
      ]
     },
     "execution_count": 25,
     "metadata": {},
     "output_type": "execute_result"
    }
   ],
   "source": [
    "type(frutas)"
   ]
  },
  {
   "cell_type": "code",
   "execution_count": 26,
   "id": "5952b8c0",
   "metadata": {},
   "outputs": [],
   "source": [
    "frutas = []"
   ]
  },
  {
   "cell_type": "code",
   "execution_count": 27,
   "id": "d1c3129e",
   "metadata": {},
   "outputs": [
    {
     "data": {
      "text/plain": [
       "list"
      ]
     },
     "execution_count": 27,
     "metadata": {},
     "output_type": "execute_result"
    }
   ],
   "source": [
    "type(frutas)"
   ]
  },
  {
   "cell_type": "code",
   "execution_count": 28,
   "id": "c8ccbe6c",
   "metadata": {},
   "outputs": [],
   "source": [
    "frutas = [\"maça\", \"morango\", \"laranja\", \"manga\"]"
   ]
  },
  {
   "cell_type": "code",
   "execution_count": 29,
   "id": "8df30ba7",
   "metadata": {},
   "outputs": [
    {
     "data": {
      "text/plain": [
       "['maça', 'morango', 'laranja', 'manga']"
      ]
     },
     "execution_count": 29,
     "metadata": {},
     "output_type": "execute_result"
    }
   ],
   "source": [
    "frutas"
   ]
  },
  {
   "cell_type": "code",
   "execution_count": 33,
   "id": "8e27f0be",
   "metadata": {},
   "outputs": [],
   "source": [
    "frutas = list()"
   ]
  },
  {
   "cell_type": "code",
   "execution_count": 34,
   "id": "c956b1d3",
   "metadata": {},
   "outputs": [
    {
     "data": {
      "text/plain": [
       "[]"
      ]
     },
     "execution_count": 34,
     "metadata": {},
     "output_type": "execute_result"
    }
   ],
   "source": [
    "frutas"
   ]
  },
  {
   "cell_type": "code",
   "execution_count": 40,
   "id": "9230d0b6",
   "metadata": {},
   "outputs": [],
   "source": [
    "frutas.append(\"uva\")"
   ]
  },
  {
   "cell_type": "code",
   "execution_count": 37,
   "id": "87ce9900",
   "metadata": {},
   "outputs": [
    {
     "data": {
      "text/plain": [
       "['uva']"
      ]
     },
     "execution_count": 37,
     "metadata": {},
     "output_type": "execute_result"
    }
   ],
   "source": [
    "frutas\n"
   ]
  },
  {
   "cell_type": "code",
   "execution_count": 38,
   "id": "7663e407",
   "metadata": {},
   "outputs": [
    {
     "data": {
      "text/plain": [
       "1"
      ]
     },
     "execution_count": 38,
     "metadata": {},
     "output_type": "execute_result"
    }
   ],
   "source": [
    "len(frutas)"
   ]
  },
  {
   "cell_type": "code",
   "execution_count": 41,
   "id": "90d8bd1e",
   "metadata": {},
   "outputs": [
    {
     "data": {
      "text/plain": [
       "'uva'"
      ]
     },
     "execution_count": 41,
     "metadata": {},
     "output_type": "execute_result"
    }
   ],
   "source": [
    "frutas[0]"
   ]
  },
  {
   "cell_type": "code",
   "execution_count": 42,
   "id": "4370e791",
   "metadata": {},
   "outputs": [
    {
     "data": {
      "text/plain": [
       "'UVA'"
      ]
     },
     "execution_count": 42,
     "metadata": {},
     "output_type": "execute_result"
    }
   ],
   "source": [
    "frutas[0].upper()"
   ]
  },
  {
   "cell_type": "code",
   "execution_count": 43,
   "id": "47e5d06a",
   "metadata": {},
   "outputs": [],
   "source": [
    "frutas[0]=\"banana\""
   ]
  },
  {
   "cell_type": "code",
   "execution_count": 44,
   "id": "45ca90af",
   "metadata": {},
   "outputs": [
    {
     "data": {
      "text/plain": [
       "['banana', 'uva']"
      ]
     },
     "execution_count": 44,
     "metadata": {},
     "output_type": "execute_result"
    }
   ],
   "source": [
    "frutas\n"
   ]
  },
  {
   "cell_type": "code",
   "execution_count": 48,
   "id": "9c438aa8",
   "metadata": {},
   "outputs": [
    {
     "data": {
      "text/plain": [
       "'uva'"
      ]
     },
     "execution_count": 48,
     "metadata": {},
     "output_type": "execute_result"
    }
   ],
   "source": [
    "frutas.pop(1)"
   ]
  },
  {
   "cell_type": "code",
   "execution_count": 49,
   "id": "1814c9ab",
   "metadata": {},
   "outputs": [
    {
     "data": {
      "text/plain": [
       "['banana']"
      ]
     },
     "execution_count": 49,
     "metadata": {},
     "output_type": "execute_result"
    }
   ],
   "source": [
    "frutas\n"
   ]
  },
  {
   "cell_type": "code",
   "execution_count": 50,
   "id": "e71baef6",
   "metadata": {},
   "outputs": [],
   "source": [
    "frutas.insert(0, 'laranja')"
   ]
  },
  {
   "cell_type": "code",
   "execution_count": 51,
   "id": "8a1cd7d1",
   "metadata": {},
   "outputs": [
    {
     "data": {
      "text/plain": [
       "['laranja', 'banana']"
      ]
     },
     "execution_count": 51,
     "metadata": {},
     "output_type": "execute_result"
    }
   ],
   "source": [
    "frutas\n"
   ]
  },
  {
   "cell_type": "code",
   "execution_count": 52,
   "id": "686eba4a",
   "metadata": {},
   "outputs": [],
   "source": [
    "frutas.insert(1, 'pessego')"
   ]
  },
  {
   "cell_type": "code",
   "execution_count": 53,
   "id": "4bba6ca6",
   "metadata": {},
   "outputs": [
    {
     "data": {
      "text/plain": [
       "['laranja', 'pessego', 'banana']"
      ]
     },
     "execution_count": 53,
     "metadata": {},
     "output_type": "execute_result"
    }
   ],
   "source": [
    "frutas\n"
   ]
  },
  {
   "cell_type": "code",
   "execution_count": 54,
   "id": "d4d0c5f1",
   "metadata": {},
   "outputs": [],
   "source": [
    "frutas.append('maça')"
   ]
  },
  {
   "cell_type": "code",
   "execution_count": 55,
   "id": "07d827bb",
   "metadata": {},
   "outputs": [
    {
     "data": {
      "text/plain": [
       "['laranja', 'pessego', 'banana', 'maça']"
      ]
     },
     "execution_count": 55,
     "metadata": {},
     "output_type": "execute_result"
    }
   ],
   "source": [
    "frutas\n"
   ]
  },
  {
   "cell_type": "code",
   "execution_count": 56,
   "id": "68660dd1",
   "metadata": {},
   "outputs": [],
   "source": [
    "frutas.append('maça')\n"
   ]
  },
  {
   "cell_type": "code",
   "execution_count": 57,
   "id": "63a979a2",
   "metadata": {},
   "outputs": [
    {
     "data": {
      "text/plain": [
       "['laranja', 'pessego', 'banana', 'maça', 'maça']"
      ]
     },
     "execution_count": 57,
     "metadata": {},
     "output_type": "execute_result"
    }
   ],
   "source": [
    "frutas\n"
   ]
  },
  {
   "cell_type": "code",
   "execution_count": 58,
   "id": "2758a38f",
   "metadata": {},
   "outputs": [
    {
     "data": {
      "text/plain": [
       "2"
      ]
     },
     "execution_count": 58,
     "metadata": {},
     "output_type": "execute_result"
    }
   ],
   "source": [
    "frutas.count('maça')"
   ]
  },
  {
   "cell_type": "code",
   "execution_count": 61,
   "id": "d4c67af0",
   "metadata": {},
   "outputs": [
    {
     "name": "stdout",
     "output_type": "stream",
     "text": [
      "LARANJA\n",
      "PESSEGO\n",
      "BANANA\n",
      "MAÇA\n",
      "MAÇA\n"
     ]
    }
   ],
   "source": [
    "for fruta in frutas:\n",
    "    print(fruta.upper())"
   ]
  },
  {
   "cell_type": "code",
   "execution_count": 62,
   "id": "5b6e608e",
   "metadata": {},
   "outputs": [],
   "source": [
    "colecao = [15, 20, 32, [13,18,15], 20, True]"
   ]
  },
  {
   "cell_type": "code",
   "execution_count": 63,
   "id": "57608bd8",
   "metadata": {},
   "outputs": [
    {
     "data": {
      "text/plain": [
       "5"
      ]
     },
     "execution_count": 63,
     "metadata": {},
     "output_type": "execute_result"
    }
   ],
   "source": [
    "len(colecao)"
   ]
  },
  {
   "cell_type": "code",
   "execution_count": 64,
   "id": "b8337092",
   "metadata": {},
   "outputs": [
    {
     "data": {
      "text/plain": [
       "[13, 18, 15]"
      ]
     },
     "execution_count": 64,
     "metadata": {},
     "output_type": "execute_result"
    }
   ],
   "source": [
    "colecao[3]"
   ]
  },
  {
   "cell_type": "code",
   "execution_count": 66,
   "id": "27c7d45f",
   "metadata": {},
   "outputs": [
    {
     "data": {
      "text/plain": [
       "list"
      ]
     },
     "execution_count": 66,
     "metadata": {},
     "output_type": "execute_result"
    }
   ],
   "source": [
    "type(colecao[3])"
   ]
  },
  {
   "cell_type": "code",
   "execution_count": 67,
   "id": "73d5e904",
   "metadata": {},
   "outputs": [
    {
     "data": {
      "text/plain": [
       "18"
      ]
     },
     "execution_count": 67,
     "metadata": {},
     "output_type": "execute_result"
    }
   ],
   "source": [
    "colecao[3][1]"
   ]
  },
  {
   "cell_type": "code",
   "execution_count": 68,
   "id": "daafd8ff",
   "metadata": {},
   "outputs": [
    {
     "data": {
      "text/plain": [
       "13"
      ]
     },
     "execution_count": 68,
     "metadata": {},
     "output_type": "execute_result"
    }
   ],
   "source": [
    "min(colecao[3])"
   ]
  },
  {
   "cell_type": "code",
   "execution_count": 73,
   "id": "d0af1daa",
   "metadata": {},
   "outputs": [
    {
     "ename": "AttributeError",
     "evalue": "'int' object has no attribute 'reverse'",
     "output_type": "error",
     "traceback": [
      "\u001b[1;31m---------------------------------------------------------------------------\u001b[0m",
      "\u001b[1;31mAttributeError\u001b[0m                            Traceback (most recent call last)",
      "Input \u001b[1;32mIn [73]\u001b[0m, in \u001b[0;36m<cell line: 1>\u001b[1;34m()\u001b[0m\n\u001b[1;32m----> 1\u001b[0m \u001b[43mcolecao\u001b[49m\u001b[43m[\u001b[49m\u001b[38;5;241;43m3\u001b[39;49m\u001b[43m]\u001b[49m\u001b[38;5;241;43m.\u001b[39;49m\u001b[43mreverse\u001b[49m()\n",
      "\u001b[1;31mAttributeError\u001b[0m: 'int' object has no attribute 'reverse'"
     ]
    }
   ],
   "source": [
    "colecao[3].reverse()"
   ]
  },
  {
   "cell_type": "code",
   "execution_count": 76,
   "id": "d560e65d",
   "metadata": {},
   "outputs": [
    {
     "data": {
      "text/plain": [
       "[20, [13, 18, 15], 32, 20, 15]"
      ]
     },
     "execution_count": 76,
     "metadata": {},
     "output_type": "execute_result"
    }
   ],
   "source": [
    "colecao\n",
    "\n"
   ]
  },
  {
   "cell_type": "code",
   "execution_count": 78,
   "id": "e624de07",
   "metadata": {},
   "outputs": [
    {
     "data": {
      "text/plain": [
       "[32, 20, 15]"
      ]
     },
     "execution_count": 78,
     "metadata": {},
     "output_type": "execute_result"
    }
   ],
   "source": [
    "colecao[2:5]"
   ]
  },
  {
   "cell_type": "code",
   "execution_count": null,
   "id": "7c0a7b59",
   "metadata": {},
   "outputs": [],
   "source": []
  },
  {
   "cell_type": "code",
   "execution_count": null,
   "id": "8a8d3fa4",
   "metadata": {},
   "outputs": [],
   "source": []
  }
 ],
 "metadata": {
  "kernelspec": {
   "display_name": "Python 3 (ipykernel)",
   "language": "python",
   "name": "python3"
  },
  "language_info": {
   "codemirror_mode": {
    "name": "ipython",
    "version": 3
   },
   "file_extension": ".py",
   "mimetype": "text/x-python",
   "name": "python",
   "nbconvert_exporter": "python",
   "pygments_lexer": "ipython3",
   "version": "3.8.10"
  }
 },
 "nbformat": 4,
 "nbformat_minor": 5
}
