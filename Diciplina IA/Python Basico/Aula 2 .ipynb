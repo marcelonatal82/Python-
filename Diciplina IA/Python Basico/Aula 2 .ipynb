{
 "cells": [
  {
   "cell_type": "markdown",
   "id": "4d6ff941",
   "metadata": {},
   "source": [
    "# Avançado\n"
   ]
  },
  {
   "cell_type": "code",
   "execution_count": 2,
   "id": "a91a1ca1",
   "metadata": {},
   "outputs": [],
   "source": [
    "dicionario = {}"
   ]
  },
  {
   "cell_type": "code",
   "execution_count": 3,
   "id": "8b20cf18",
   "metadata": {},
   "outputs": [],
   "source": [
    "dicionario = dict()"
   ]
  },
  {
   "cell_type": "code",
   "execution_count": 4,
   "id": "6814fc73",
   "metadata": {},
   "outputs": [
    {
     "data": {
      "text/plain": [
       "dict"
      ]
     },
     "execution_count": 4,
     "metadata": {},
     "output_type": "execute_result"
    }
   ],
   "source": [
    "type(dicionario)"
   ]
  },
  {
   "cell_type": "code",
   "execution_count": 5,
   "id": "8fe0b72b",
   "metadata": {},
   "outputs": [],
   "source": [
    "dicionario = {'Nome':'Marcelo', 'Idade':18, 'Cidade':'São paulo'}"
   ]
  },
  {
   "cell_type": "code",
   "execution_count": 6,
   "id": "3ccc5869",
   "metadata": {},
   "outputs": [
    {
     "data": {
      "text/plain": [
       "{'Nome': 'Marcelo', 'Idade': 18, 'Cidade': 'São paulo'}"
      ]
     },
     "execution_count": 6,
     "metadata": {},
     "output_type": "execute_result"
    }
   ],
   "source": [
    "dicionario"
   ]
  },
  {
   "cell_type": "code",
   "execution_count": 7,
   "id": "c456b945",
   "metadata": {},
   "outputs": [
    {
     "data": {
      "text/plain": [
       "3"
      ]
     },
     "execution_count": 7,
     "metadata": {},
     "output_type": "execute_result"
    }
   ],
   "source": [
    "len(dicionario)"
   ]
  },
  {
   "cell_type": "code",
   "execution_count": 8,
   "id": "82989c0e",
   "metadata": {},
   "outputs": [
    {
     "data": {
      "text/plain": [
       "'Marcelo'"
      ]
     },
     "execution_count": 8,
     "metadata": {},
     "output_type": "execute_result"
    }
   ],
   "source": [
    "dicionario[\"Nome\"]"
   ]
  },
  {
   "cell_type": "code",
   "execution_count": null,
   "id": "a16a79fa",
   "metadata": {},
   "outputs": [],
   "source": []
  }
 ],
 "metadata": {
  "kernelspec": {
   "display_name": "Python 3 (ipykernel)",
   "language": "python",
   "name": "python3"
  },
  "language_info": {
   "codemirror_mode": {
    "name": "ipython",
    "version": 3
   },
   "file_extension": ".py",
   "mimetype": "text/x-python",
   "name": "python",
   "nbconvert_exporter": "python",
   "pygments_lexer": "ipython3",
   "version": "3.8.10"
  }
 },
 "nbformat": 4,
 "nbformat_minor": 5
}
